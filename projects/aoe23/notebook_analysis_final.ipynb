{
 "cells": [
  {
   "cell_type": "markdown",
   "id": "4877d9d0-b22f-4c4b-b821-4bb1cdc94547",
   "metadata": {},
   "source": [
    "# OMICS PROJECT: ANALYSIS_v4 (Final)\n",
    "\n",
    "\n",
    "### Files used: \n",
    "1. TPM: Transcripts per million file used for the comparison of my hand picked genes (A) bar graph with IL7R and (B) heatmaps.\n",
    "        omics_aoe23/project/salmon.merged.gene_tpm.tsv\n",
    "        **callled: rna_matrix_tpm**\n",
    "        **expressed_genes_tpm**\n",
    "2. Count Merged used to look differential gene expression \n",
    "        omics_aoe23/project/salmon.merged.gene_counts_scaled.tsv\n",
    "        **called: rna_matrix**\n",
    "        **expressed_genes\n",
    "        \n",
    "### Removing unwanted genes, genes expressed more than once, and in 2 or more samples\n",
    "1. Sample count: **>0**\n",
    "    sample_count = (rna_matrix>0).sum(axis=1)\n",
    "2. Expressed genes: **>2**\n",
    "    expressed_genes = rna_matrix.loc[sample_count>=2]\n",
    "    print(f'All genes: {len(rna_matrix)}\\nExpressed Genes: {len(expressed_genes)}')\n",
    "\n",
    "\n",
    "### Type of T test used\n",
    "ttest_ind\n",
    "\n",
    "\n"
   ]
  },
  {
   "cell_type": "code",
   "execution_count": 2,
   "id": "24c68994-dee1-4b1f-a85d-eaca88243cf9",
   "metadata": {
    "tags": []
   },
   "outputs": [],
   "source": [
    "# Data-science\n",
    "import numpy as np\n",
    "import pandas as pd\n",
    "import matplotlib.pyplot as plt\n",
    "import seaborn as sns\n",
    "import pingouin as pg\n",
    "\n",
    "import warnings\n",
    "# Suppress FutureWarning messages\n",
    "warnings.simplefilter(action='ignore', category=FutureWarning)"
   ]
  },
  {
   "cell_type": "markdown",
   "id": "3349f219-7905-47be-b3e7-a859a3ab9b8a",
   "metadata": {},
   "source": [
    "## Data"
   ]
  },
  {
   "cell_type": "markdown",
   "id": "3f68476b-ebfd-4959-8870-6e0ecac94a88",
   "metadata": {},
   "source": [
    "Read in the data using `pandas` just like in Biostats."
   ]
  },
  {
   "cell_type": "code",
   "execution_count": 5,
   "id": "f5762de9-4e4c-47b9-a8dc-5d5b0897c84c",
   "metadata": {
    "tags": []
   },
   "outputs": [],
   "source": [
    "# The data is stored centrally\n",
    "PREFIX = '~/repos/OMICS/projects/aoe23'"
   ]
  },
  {
   "cell_type": "markdown",
   "id": "a4c0cfed-8a57-4961-80ca-ddc402470cab",
   "metadata": {},
   "source": [
    "### Sample Sheet"
   ]
  },
  {
   "cell_type": "code",
   "execution_count": 6,
   "id": "5f06b6a0-88ca-4580-b4c1-f918e653fb24",
   "metadata": {
    "tags": []
   },
   "outputs": [
    {
     "data": {
      "text/html": [
       "<div>\n",
       "<style scoped>\n",
       "    .dataframe tbody tr th:only-of-type {\n",
       "        vertical-align: middle;\n",
       "    }\n",
       "\n",
       "    .dataframe tbody tr th {\n",
       "        vertical-align: top;\n",
       "    }\n",
       "\n",
       "    .dataframe thead th {\n",
       "        text-align: right;\n",
       "    }\n",
       "</style>\n",
       "<table border=\"1\" class=\"dataframe\">\n",
       "  <thead>\n",
       "    <tr style=\"text-align: right;\">\n",
       "      <th></th>\n",
       "      <th>sample</th>\n",
       "      <th>treatment</th>\n",
       "      <th>donor</th>\n",
       "      <th>replicate</th>\n",
       "    </tr>\n",
       "  </thead>\n",
       "  <tbody>\n",
       "    <tr>\n",
       "      <th>0</th>\n",
       "      <td>ada_car_d48</td>\n",
       "      <td>ada</td>\n",
       "      <td>48</td>\n",
       "      <td>2</td>\n",
       "    </tr>\n",
       "    <tr>\n",
       "      <th>1</th>\n",
       "      <td>car_d48</td>\n",
       "      <td>control</td>\n",
       "      <td>48</td>\n",
       "      <td>2</td>\n",
       "    </tr>\n",
       "    <tr>\n",
       "      <th>2</th>\n",
       "      <td>ada_car_d43</td>\n",
       "      <td>ada</td>\n",
       "      <td>43</td>\n",
       "      <td>1</td>\n",
       "    </tr>\n",
       "    <tr>\n",
       "      <th>3</th>\n",
       "      <td>car_d43</td>\n",
       "      <td>control</td>\n",
       "      <td>43</td>\n",
       "      <td>1</td>\n",
       "    </tr>\n",
       "  </tbody>\n",
       "</table>\n",
       "</div>"
      ],
      "text/plain": [
       "        sample treatment  donor  replicate\n",
       "0  ada_car_d48       ada     48          2\n",
       "1      car_d48   control     48          2\n",
       "2  ada_car_d43       ada     43          1\n",
       "3      car_d43   control     43          1"
      ]
     },
     "execution_count": 6,
     "metadata": {},
     "output_type": "execute_result"
    }
   ],
   "source": [
    "sample_sheet = pd.read_csv(f'{PREFIX}/info_sheet.csv')\n",
    "\n",
    "sample_sheet.head()\n"
   ]
  },
  {
   "cell_type": "code",
   "execution_count": 7,
   "id": "a482cfd1-bf5d-4bc2-a723-ff6b3f3bd892",
   "metadata": {
    "tags": []
   },
   "outputs": [
    {
     "name": "stdout",
     "output_type": "stream",
     "text": [
      "            treatment  donor  replicate\n",
      "sample                                 \n",
      "ada_car_d48       ada     48          2\n",
      "car_d48       control     48          2\n",
      "ada_car_d43       ada     43          1\n",
      "car_d43       control     43          1\n"
     ]
    }
   ],
   "source": [
    "# Read the CSV\n",
    "sample_sheet = pd.read_csv(f'{PREFIX}/info_sheet.csv')\n",
    "\n",
    "# Clean column names\n",
    "sample_sheet.columns = sample_sheet.columns.str.strip()\n",
    "\n",
    "# Enforce order on categorical variables\n",
    "sample_sheet['treatment'] = pd.Categorical(sample_sheet['treatment'], categories=['ada', 'control'])\n",
    "\n",
    "\n",
    "# Set 'sample' as the index\n",
    "sample_sheet.set_index('sample', inplace=True)\n",
    "\n",
    "# Display the first few rows\n",
    "print(sample_sheet.head())\n"
   ]
  },
  {
   "cell_type": "code",
   "execution_count": 9,
   "id": "df91932b-4c52-4d2a-89d4-214059ddf12e",
   "metadata": {
    "tags": []
   },
   "outputs": [
    {
     "data": {
      "text/html": [
       "<div>\n",
       "<style scoped>\n",
       "    .dataframe tbody tr th:only-of-type {\n",
       "        vertical-align: middle;\n",
       "    }\n",
       "\n",
       "    .dataframe tbody tr th {\n",
       "        vertical-align: top;\n",
       "    }\n",
       "\n",
       "    .dataframe thead th {\n",
       "        text-align: right;\n",
       "    }\n",
       "</style>\n",
       "<table border=\"1\" class=\"dataframe\">\n",
       "  <thead>\n",
       "    <tr style=\"text-align: right;\">\n",
       "      <th></th>\n",
       "      <th>sample</th>\n",
       "    </tr>\n",
       "    <tr>\n",
       "      <th>treatment</th>\n",
       "      <th></th>\n",
       "    </tr>\n",
       "  </thead>\n",
       "  <tbody>\n",
       "    <tr>\n",
       "      <th>ada</th>\n",
       "      <td>2</td>\n",
       "    </tr>\n",
       "    <tr>\n",
       "      <th>control</th>\n",
       "      <td>2</td>\n",
       "    </tr>\n",
       "  </tbody>\n",
       "</table>\n",
       "</div>"
      ],
      "text/plain": [
       "           sample\n",
       "treatment        \n",
       "ada             2\n",
       "control         2"
      ]
     },
     "execution_count": 9,
     "metadata": {},
     "output_type": "execute_result"
    }
   ],
   "source": [
    "pd.pivot_table(sample_sheet.reset_index(),\n",
    "               index = 'treatment',\n",
    "               values = 'sample', aggfunc = 'count')"
   ]
  },
  {
   "cell_type": "markdown",
   "id": "5da3b819-6ca4-4ee1-8b30-171942ef2cb4",
   "metadata": {},
   "source": [
    "## Read in Transcriptome: TPM File For Data Visualization\n"
   ]
  },
  {
   "cell_type": "code",
   "execution_count": 10,
   "id": "a3058234-33f0-4366-a851-a4df511ce521",
   "metadata": {
    "tags": []
   },
   "outputs": [
    {
     "data": {
      "text/html": [
       "<div>\n",
       "<style scoped>\n",
       "    .dataframe tbody tr th:only-of-type {\n",
       "        vertical-align: middle;\n",
       "    }\n",
       "\n",
       "    .dataframe tbody tr th {\n",
       "        vertical-align: top;\n",
       "    }\n",
       "\n",
       "    .dataframe thead th {\n",
       "        text-align: right;\n",
       "    }\n",
       "</style>\n",
       "<table border=\"1\" class=\"dataframe\">\n",
       "  <thead>\n",
       "    <tr style=\"text-align: right;\">\n",
       "      <th>sample_id</th>\n",
       "      <th>ada_car_d43</th>\n",
       "      <th>ada_car_d48</th>\n",
       "      <th>car_d43</th>\n",
       "      <th>car_d48</th>\n",
       "    </tr>\n",
       "    <tr>\n",
       "      <th>gene_name</th>\n",
       "      <th></th>\n",
       "      <th></th>\n",
       "      <th></th>\n",
       "      <th></th>\n",
       "    </tr>\n",
       "  </thead>\n",
       "  <tbody>\n",
       "    <tr>\n",
       "      <th>TSPAN6</th>\n",
       "      <td>0.000000</td>\n",
       "      <td>0.000000</td>\n",
       "      <td>0.000000</td>\n",
       "      <td>0.000000</td>\n",
       "    </tr>\n",
       "    <tr>\n",
       "      <th>TNMD</th>\n",
       "      <td>0.000000</td>\n",
       "      <td>0.000000</td>\n",
       "      <td>0.000000</td>\n",
       "      <td>0.000000</td>\n",
       "    </tr>\n",
       "    <tr>\n",
       "      <th>DPM1</th>\n",
       "      <td>38.575232</td>\n",
       "      <td>36.893488</td>\n",
       "      <td>85.582093</td>\n",
       "      <td>58.399814</td>\n",
       "    </tr>\n",
       "    <tr>\n",
       "      <th>SCYL3</th>\n",
       "      <td>8.881511</td>\n",
       "      <td>10.178072</td>\n",
       "      <td>8.014066</td>\n",
       "      <td>8.207445</td>\n",
       "    </tr>\n",
       "    <tr>\n",
       "      <th>FIRRM</th>\n",
       "      <td>12.032208</td>\n",
       "      <td>12.636945</td>\n",
       "      <td>21.407123</td>\n",
       "      <td>21.200996</td>\n",
       "    </tr>\n",
       "  </tbody>\n",
       "</table>\n",
       "</div>"
      ],
      "text/plain": [
       "sample_id  ada_car_d43  ada_car_d48    car_d43    car_d48\n",
       "gene_name                                                \n",
       "TSPAN6        0.000000     0.000000   0.000000   0.000000\n",
       "TNMD          0.000000     0.000000   0.000000   0.000000\n",
       "DPM1         38.575232    36.893488  85.582093  58.399814\n",
       "SCYL3         8.881511    10.178072   8.014066   8.207445\n",
       "FIRRM        12.032208    12.636945  21.407123  21.200996"
      ]
     },
     "execution_count": 10,
     "metadata": {},
     "output_type": "execute_result"
    }
   ],
   "source": [
    "rna_matrix_tpm = pd.read_csv(f'{PREFIX}/salmon.merged.gene_tpm.tsv', sep='\\t')\n",
    "rna_matrix_tpm.columns.name = 'sample_id'\n",
    "rna_matrix_tpm = rna_matrix_tpm.drop(['gene_id'], axis=1).set_index('gene_name')\n",
    "\n",
    "rna_matrix_tpm.head()"
   ]
  },
  {
   "cell_type": "markdown",
   "id": "f9acdeab-42c4-4311-8b80-2332365046ee",
   "metadata": {},
   "source": [
    "### Remove Unusable Rows"
   ]
  },
  {
   "cell_type": "markdown",
   "id": "c2ed7dbc-d508-4f3b-a75a-7652ed5ea734",
   "metadata": {},
   "source": [
    "One thing to note about RNA-seq is that about half of genes are below the level of detection."
   ]
  },
  {
   "cell_type": "code",
   "execution_count": 11,
   "id": "29ee03cd-c7cb-43c3-a74d-5f6adc8d1455",
   "metadata": {
    "tags": []
   },
   "outputs": [],
   "source": [
    "# How many samples is a gene expressed in?\n",
    "# I am setting the rna_matrix to > 0 because I want to keep all genes that were expressed more than 3 times \n",
    "#  Previously Will had all genes that were expressed more than 0 but I wanted to have more of a filter based on feedback from Josh\n",
    "sample_count = (rna_matrix_tpm>0).sum(axis=1)\n"
   ]
  },
  {
   "cell_type": "code",
   "execution_count": 12,
   "id": "2029c9cc-74bf-4740-93f2-07db8d30bf65",
   "metadata": {
    "tags": []
   },
   "outputs": [
    {
     "data": {
      "text/plain": [
       "Text(0.5, 0, 'Number of Samples')"
      ]
     },
     "execution_count": 12,
     "metadata": {},
     "output_type": "execute_result"
    },
    {
     "data": {
      "image/png": "[encoded data removed]",
      "text/plain": [
       "<Figure size 640x480 with 1 Axes>"
      ]
     },
     "metadata": {},
     "output_type": "display_data"
    }
   ],
   "source": [
    "sns.histplot(sample_count, bins = np.arange(5), stat='count')\n",
    "\n",
    "plt.ylabel(\"Counts\")\n",
    "plt.xlabel(\"Number of Samples\")"
   ]
  },
  {
   "cell_type": "markdown",
   "id": "1c2a52f1-d00a-4dc0-8ec0-4723bf2cf671",
   "metadata": {
    "tags": []
   },
   "source": [
    "- More than 34,000 genes were not measured even once.\n",
    "- about 20,000 genes were expressed in all 4 samples\n",
    "- Having these in will mess up many downstream processes by artifically inflating our gene counts.\n",
    "- In this case I'm keep all genes expressed (>3 times) in at least 2 samples; this should still allow genes that are only expressed in a single condition to be captured.\n",
    "- Given that I am comparing 2 replicates between CAR and ADA-CAR I want it to be captured in at least 2 samples! So adjusted below to be >2. \n"
   ]
  },
  {
   "cell_type": "code",
   "execution_count": 14,
   "id": "b009991b-a35c-46e7-a5d2-89bfca6629d4",
   "metadata": {
    "tags": []
   },
   "outputs": [
    {
     "name": "stdout",
     "output_type": "stream",
     "text": [
      "All genes: 62709\n",
      "Expressed Genes: 23778\n"
     ]
    }
   ],
   "source": [
    "expressed_genes_tpm = rna_matrix_tpm.loc[sample_count>=2]\n",
    "print(f'All genes: {len(rna_matrix_tpm)}\\nExpressed Genes: {len(expressed_genes_tpm)}')"
   ]
  },
  {
   "cell_type": "code",
   "execution_count": 15,
   "id": "da2cc135-df1a-4550-bb4e-f23f7b3ae193",
   "metadata": {
    "tags": []
   },
   "outputs": [
    {
     "data": {
      "text/html": [
       "<div>\n",
       "<style scoped>\n",
       "    .dataframe tbody tr th:only-of-type {\n",
       "        vertical-align: middle;\n",
       "    }\n",
       "\n",
       "    .dataframe tbody tr th {\n",
       "        vertical-align: top;\n",
       "    }\n",
       "\n",
       "    .dataframe thead th {\n",
       "        text-align: right;\n",
       "    }\n",
       "</style>\n",
       "<table border=\"1\" class=\"dataframe\">\n",
       "  <thead>\n",
       "    <tr style=\"text-align: right;\">\n",
       "      <th>sample_id</th>\n",
       "      <th>ada_car_d43</th>\n",
       "      <th>ada_car_d48</th>\n",
       "      <th>car_d43</th>\n",
       "      <th>car_d48</th>\n",
       "    </tr>\n",
       "    <tr>\n",
       "      <th>gene_name</th>\n",
       "      <th></th>\n",
       "      <th></th>\n",
       "      <th></th>\n",
       "      <th></th>\n",
       "    </tr>\n",
       "  </thead>\n",
       "  <tbody>\n",
       "    <tr>\n",
       "      <th>DPM1</th>\n",
       "      <td>38.575232</td>\n",
       "      <td>36.893488</td>\n",
       "      <td>85.582093</td>\n",
       "      <td>58.399814</td>\n",
       "    </tr>\n",
       "    <tr>\n",
       "      <th>SCYL3</th>\n",
       "      <td>8.881511</td>\n",
       "      <td>10.178072</td>\n",
       "      <td>8.014066</td>\n",
       "      <td>8.207445</td>\n",
       "    </tr>\n",
       "    <tr>\n",
       "      <th>FIRRM</th>\n",
       "      <td>12.032208</td>\n",
       "      <td>12.636945</td>\n",
       "      <td>21.407123</td>\n",
       "      <td>21.200996</td>\n",
       "    </tr>\n",
       "    <tr>\n",
       "      <th>FGR</th>\n",
       "      <td>0.768465</td>\n",
       "      <td>0.336872</td>\n",
       "      <td>0.024496</td>\n",
       "      <td>0.340151</td>\n",
       "    </tr>\n",
       "    <tr>\n",
       "      <th>CFH</th>\n",
       "      <td>0.197450</td>\n",
       "      <td>0.615211</td>\n",
       "      <td>7.898411</td>\n",
       "      <td>1.107814</td>\n",
       "    </tr>\n",
       "  </tbody>\n",
       "</table>\n",
       "</div>"
      ],
      "text/plain": [
       "sample_id  ada_car_d43  ada_car_d48    car_d43    car_d48\n",
       "gene_name                                                \n",
       "DPM1         38.575232    36.893488  85.582093  58.399814\n",
       "SCYL3         8.881511    10.178072   8.014066   8.207445\n",
       "FIRRM        12.032208    12.636945  21.407123  21.200996\n",
       "FGR           0.768465     0.336872   0.024496   0.340151\n",
       "CFH           0.197450     0.615211   7.898411   1.107814"
      ]
     },
     "execution_count": 15,
     "metadata": {},
     "output_type": "execute_result"
    }
   ],
   "source": [
    "expressed_genes_tpm.head()\n"
   ]
  },
  {
   "cell_type": "markdown",
   "id": "940439a8-16ca-465e-bc32-9a0825944b80",
   "metadata": {
    "tags": []
   },
   "source": [
    "## Common Analyses"
   ]
  },
  {
   "cell_type": "markdown",
   "id": "b7b495a4-fa89-45d5-b8a4-c66eba25c2ed",
   "metadata": {},
   "source": [
    "There are a handful of python libaries we can use.\n",
    "If you're doing single-cell transcriptomics you should use `scanpy`.\n",
    "However, it is a bit overkill when you only have a handful of samples.\n",
    "We'll just use pandas/sklearn/statsmodels.\n",
    "If you're doing something more in-depth, check out the scanpy tutorials."
   ]
  },
  {
   "cell_type": "markdown",
   "id": "a984547c-9270-4ce7-a157-0b1e7f1ef20f",
   "metadata": {},
   "source": [
    "### Dimensionality Reduction"
   ]
  },
  {
   "cell_type": "markdown",
   "id": "45257e59-031c-4209-a244-a663cfcc47bc",
   "metadata": {},
   "source": [
    "This is the process of _projecting_ your data into fewer dimensions for visualization.\n",
    "This can be useful as an initial screening to understand how samples cluster with each other."
   ]
  },
  {
   "cell_type": "code",
   "execution_count": 16,
   "id": "08c5ba0f-f906-49ab-8c2d-e238edae9618",
   "metadata": {
    "tags": []
   },
   "outputs": [
    {
     "data": {
      "image/png": "[encoded data removed]",
      "text/plain": [
       "<Figure size 640x480 with 1 Axes>"
      ]
     },
     "metadata": {},
     "output_type": "display_data"
    }
   ],
   "source": [
    "from sklearn.decomposition import PCA\n",
    "\n",
    "# Project each _sample_ into a smaller dimension\n",
    "\n",
    "reduced = PCA(n_components=2).fit_transform(expressed_genes_tpm.T)\n",
    "ax = sns.scatterplot(x = reduced[:,0], y = reduced[:, 1],\n",
    "                hue = sample_sheet['treatment'])\n",
    "ax.set_xlabel('PC1'), ax.set_ylabel('PC2')\n",
    "\n",
    "\n",
    "for i, donor in enumerate(sample_sheet['donor']):\n",
    "    ax.annotate(donor, (reduced[i, 0], reduced[i, 1]), fontsize=10, color='black', ha='right', va='bottom')\n"
   ]
  },
  {
   "cell_type": "markdown",
   "id": "4a900c02-b0d6-45ae-a60a-e6bb4f28a92e",
   "metadata": {},
   "source": [
    "\n",
    "\n",
    "# Result from PCA Plot: Project each _sample_ into a smaller dimension\n",
    "\n",
    "- The samples of similar conditions should group together.\n",
    "- However we do not see this as the case.....it could be because we have a really small number of samples and there could be varaiblity between the 2. \n",
    "- This is evidence that maybe there isn't a big effect of ADA-1 over expression. Or it could be that the sample size is too low.\n"
   ]
  },
  {
   "cell_type": "markdown",
   "id": "811bd902-92b6-497e-86e0-3f19b8cde9d7",
   "metadata": {},
   "source": [
    "### Visualization"
   ]
  },
  {
   "cell_type": "markdown",
   "id": "060be2d6-05ed-4c0b-b477-9b174afc6c5f",
   "metadata": {
    "tags": []
   },
   "source": [
    "Seaborn is the easiest way to visualize the expression of a few genes across different conditions.\n",
    "\n",
    "Given that the paper claims that the expression of ADA-1 increases stem like phenotype I took a look at IL7R gene expression because it plays a crucial role in T cell development and maintenance of the stem-like state.\n"
   ]
  },
  {
   "cell_type": "code",
   "execution_count": 17,
   "id": "bd75722f-950c-46d6-858e-084b39ad279f",
   "metadata": {
    "tags": []
   },
   "outputs": [
    {
     "data": {
      "text/plain": [
       "Text(0.5, 1.0, 'Expression of IL7R: Key Stemness Marker')"
      ]
     },
     "execution_count": 17,
     "metadata": {},
     "output_type": "execute_result"
    },
    {
     "data": {
      "image/png": "[encoded data removed]",
      "text/plain": [
       "<Figure size 640x480 with 1 Axes>"
      ]
     },
     "metadata": {},
     "output_type": "display_data"
    }
   ],
   "source": [
    "ax = sns.barplot(y = expressed_genes_tpm.loc['IL7R', sample_sheet.index],\n",
    "                 x = sample_sheet['treatment'], alpha=0.5)\n",
    "\n",
    "\n",
    "sns.stripplot(y = expressed_genes_tpm.loc['IL7R', sample_sheet.index],\n",
    "              x = sample_sheet['treatment'], \n",
    "              ax=ax)\n",
    "\n",
    "plt.ylabel(\"Transcripts Per Million\")\n",
    "plt.title(\"Expression of IL7R: Key Stemness Marker\")"
   ]
  },
  {
   "cell_type": "markdown",
   "id": "50298f73-b71b-4f48-b777-bcf3ce967b1a",
   "metadata": {},
   "source": [
    "For single gene hypothesis testing, Pingouin is easiest for doing your statistics.\n",
    "\n",
    "I suggest re-bookmarking the decision trees for each test: https://pingouin-stats.org/build/html/guidelines.html\n",
    "\n",
    "- Given that I have only 2 samples, for each group--I know that my data is not normally distributed. \n",
    "- Below, I fail the normality test and need to use non-parametric tests/ rely on descriptive statistics or qualitative reasoning about the data.\n",
    "\n",
    "I can use the: **Wilcoxon Signed-Rank Test:**\n",
    "- Compares two paired (dependent) groups (e.g., before and after treatment).\n",
    "- Does not assume normality of differences between pairs.\n",
    "- Equivalent to a paired t-test for non-normal data.\n"
   ]
  },
  {
   "cell_type": "code",
   "execution_count": null,
   "id": "8eedc41b-6729-4d36-8510-947d32aee299",
   "metadata": {
    "tags": []
   },
   "outputs": [],
   "source": [
    "data = pd.DataFrame({'expression': rna_matrix.loc['IL7R', sample_sheet.index],\n",
    "                     'treatment': sample_sheet['treatment']})\n",
    "data.head()\n",
    "\n"
   ]
  },
  {
   "cell_type": "code",
   "execution_count": 59,
   "id": "33fd06e9-3ee8-46c6-ae40-fb532c0a975b",
   "metadata": {
    "tags": []
   },
   "outputs": [
    {
     "name": "stdout",
     "output_type": "stream",
     "text": [
      "          W-val alternative  p-val  RBC  CLES\n",
      "Wilcoxon    0.0   two-sided    0.5  1.0   1.0\n"
     ]
    }
   ],
   "source": [
    "# WILCOXON between treatments\n",
    "\n",
    "\n",
    "# Split the data into two groups\n",
    "il7r_ada_group = data[data['treatment'] == 'ada']['expression']\n",
    "il7r_control_group = data[data['treatment'] == 'control']['expression']\n",
    "\n",
    "# Perform the Wilcoxon test\n",
    "il7r_stats = pg.wilcoxon(il7r_ada_group, il7r_control_group)\n",
    "\n",
    "# Print the result\n",
    "print(il7r_stats)\n",
    "\n",
    "\n"
   ]
  },
  {
   "cell_type": "markdown",
   "id": "0944d41c-fcea-4bc9-b6c8-5b2153578088",
   "metadata": {},
   "source": [
    "# Heatmaps Comparing Expression of Key Genes of Interest"
   ]
  },
  {
   "cell_type": "markdown",
   "id": "c51fb271-8af2-428f-9caf-dba2ef5dd829",
   "metadata": {},
   "source": [
    "### Heatmaps Comparing expression of key T Cell exhaustion genes\n",
    "#####  Note that these were just simply genes I hand picked to take a quick look at \n",
    "- CTLA4\n",
    "- PD1\n",
    "- LAG3\n",
    "- HAVCR2 (AKA TIM3)\n",
    "- TIGIT\n",
    "\n",
    "\n"
   ]
  },
  {
   "cell_type": "code",
   "execution_count": 60,
   "id": "fece2f00-5936-4329-8772-75b174a06794",
   "metadata": {
    "tags": []
   },
   "outputs": [
    {
     "data": {
      "text/html": [
       "<div>\n",
       "<style scoped>\n",
       "    .dataframe tbody tr th:only-of-type {\n",
       "        vertical-align: middle;\n",
       "    }\n",
       "\n",
       "    .dataframe tbody tr th {\n",
       "        vertical-align: top;\n",
       "    }\n",
       "\n",
       "    .dataframe thead th {\n",
       "        text-align: right;\n",
       "    }\n",
       "</style>\n",
       "<table border=\"1\" class=\"dataframe\">\n",
       "  <thead>\n",
       "    <tr style=\"text-align: right;\">\n",
       "      <th>sample_id</th>\n",
       "      <th>ada_car_d43</th>\n",
       "      <th>ada_car_d48</th>\n",
       "      <th>car_d43</th>\n",
       "      <th>car_d48</th>\n",
       "    </tr>\n",
       "    <tr>\n",
       "      <th>gene_name</th>\n",
       "      <th></th>\n",
       "      <th></th>\n",
       "      <th></th>\n",
       "      <th></th>\n",
       "    </tr>\n",
       "  </thead>\n",
       "  <tbody>\n",
       "    <tr>\n",
       "      <th>DPM1</th>\n",
       "      <td>-0.828910</td>\n",
       "      <td>-0.914498</td>\n",
       "      <td>1.563393</td>\n",
       "      <td>0.180015</td>\n",
       "    </tr>\n",
       "    <tr>\n",
       "      <th>SCYL3</th>\n",
       "      <td>0.072258</td>\n",
       "      <td>1.602158</td>\n",
       "      <td>-0.951299</td>\n",
       "      <td>-0.723118</td>\n",
       "    </tr>\n",
       "    <tr>\n",
       "      <th>FIRRM</th>\n",
       "      <td>-1.066070</td>\n",
       "      <td>-0.931398</td>\n",
       "      <td>1.021686</td>\n",
       "      <td>0.975782</td>\n",
       "    </tr>\n",
       "    <tr>\n",
       "      <th>FGR</th>\n",
       "      <td>1.515221</td>\n",
       "      <td>-0.115725</td>\n",
       "      <td>-1.296162</td>\n",
       "      <td>-0.103334</td>\n",
       "    </tr>\n",
       "    <tr>\n",
       "      <th>CFH</th>\n",
       "      <td>-0.714464</td>\n",
       "      <td>-0.582236</td>\n",
       "      <td>1.723019</td>\n",
       "      <td>-0.426319</td>\n",
       "    </tr>\n",
       "  </tbody>\n",
       "</table>\n",
       "</div>"
      ],
      "text/plain": [
       "sample_id  ada_car_d43  ada_car_d48   car_d43   car_d48\n",
       "gene_name                                              \n",
       "DPM1         -0.828910    -0.914498  1.563393  0.180015\n",
       "SCYL3         0.072258     1.602158 -0.951299 -0.723118\n",
       "FIRRM        -1.066070    -0.931398  1.021686  0.975782\n",
       "FGR           1.515221    -0.115725 -1.296162 -0.103334\n",
       "CFH          -0.714464    -0.582236  1.723019 -0.426319"
      ]
     },
     "execution_count": 60,
     "metadata": {},
     "output_type": "execute_result"
    }
   ],
   "source": [
    "## first adjust expressed genes matrix so that I have a z score value for each before making heatmap\n",
    "\n",
    "## Note that also for the sake of using heat maps I will be using the tpm file instead!!!\n",
    "from scipy.stats import zscore\n",
    "\n",
    "# Apply z-score across each row (genes)\n",
    "expressed_genes_zscore_tpm = expressed_genes_tpm.apply(zscore, axis=1)\n",
    "\n",
    "# View the transformed matrix\n",
    "expressed_genes_zscore_tpm.head()"
   ]
  },
  {
   "cell_type": "code",
   "execution_count": 63,
   "id": "3c4ed372-7a9d-416c-a61c-fcb3f3d5f29c",
   "metadata": {
    "tags": []
   },
   "outputs": [
    {
     "data": {
      "image/png": "[encoded data removed]",
      "text/plain": [
       "<Figure size 640x480 with 2 Axes>"
      ]
     },
     "metadata": {},
     "output_type": "display_data"
    }
   ],
   "source": [
    "sns.heatmap(expressed_genes_zscore_tpm.loc[['CTLA4', 'PDCD1', 'LAG3', 'HAVCR2', 'TIGIT']], cmap=\"coolwarm\") # Change to coolwarm color\n",
    "\n",
    "\n",
    "plt.title(\"Heatmap Showing ZScore of Key Exhaustion Genes\")\n",
    "plt.show()"
   ]
  },
  {
   "cell_type": "markdown",
   "id": "ec63ccd6-d00b-4c7e-9d60-eabe8ae93015",
   "metadata": {},
   "source": [
    "### Heatmap Comparing expression of genes associated with T cell stemness\n",
    "\n",
    "\n",
    "- TCF7 (transcription factor 7)\n",
    "- LEF1 (lymphoid enhancer factor 1)\n",
    "- IL7R\n"
   ]
  },
  {
   "cell_type": "code",
   "execution_count": 64,
   "id": "3c12e63c-9b15-4597-b3ce-43d98a5542e8",
   "metadata": {
    "tags": []
   },
   "outputs": [
    {
     "data": {
      "text/plain": [
       "Text(0.5, 1.0, 'Heatmap Showing ZScore of Key Stemness Genes')"
      ]
     },
     "execution_count": 64,
     "metadata": {},
     "output_type": "execute_result"
    },
    {
     "data": {
      "image/png": "[encoded data removed]",
      "text/plain": [
       "<Figure size 640x480 with 2 Axes>"
      ]
     },
     "metadata": {},
     "output_type": "display_data"
    }
   ],
   "source": [
    "sns.heatmap(expressed_genes_zscore_tpm.loc[['TCF7', 'LEF1', 'IL7R']], cmap=\"coolwarm\")\n",
    "plt.title(\"Heatmap Showing ZScore of Key Stemness Genes\")"
   ]
  },
  {
   "cell_type": "markdown",
   "id": "c0e52fea-552a-4db4-bcde-832087855e81",
   "metadata": {},
   "source": [
    "## Pairwise Comparisons"
   ]
  },
  {
   "cell_type": "markdown",
   "id": "b2a6ed1b-5e56-494f-9575-57c30e05c75f",
   "metadata": {},
   "source": [
    "Most pipelines, including [`nfcore`](https://nf-co.re/rnaseq/3.17.0/docs/output/#deseq2), will perform basic pairwise comparisons between test & control groups.\n",
    "This is usually done with DESeq2, an R package. Yuck.\n",
    "\n",
    "We can do a similar analysis ourselves.\n",
    "\n",
    "First I will bring in the transcriptome counts_merged file and get only the expressed genes."
   ]
  },
  {
   "cell_type": "code",
   "execution_count": 76,
   "id": "37fc690a-37f6-4de0-91cf-715fd793be2d",
   "metadata": {
    "tags": []
   },
   "outputs": [
    {
     "name": "stdout",
     "output_type": "stream",
     "text": [
      "All genes: 62709\n",
      "Expressed Genes: 19658\n"
     ]
    }
   ],
   "source": [
    "rna_matrix = pd.read_csv(f'{PREFIX}/salmon.merged.gene_counts_scaled.tsv', sep='\\t')\n",
    "rna_matrix.columns.name = 'sample_id'\n",
    "rna_matrix = rna_matrix.drop(['gene_id'], axis=1).set_index('gene_name')\n",
    "\n",
    "sample_count = (rna_matrix>4).sum(axis=1)\n",
    "expressed_genes = rna_matrix.loc[sample_count>=2]\n",
    "print(f'All genes: {len(rna_matrix)}\\nExpressed Genes: {len(expressed_genes)}')"
   ]
  },
  {
   "cell_type": "code",
   "execution_count": 77,
   "id": "fd6180c8-b1b4-44f2-8294-b18eb8a14eae",
   "metadata": {
    "tags": []
   },
   "outputs": [
    {
     "data": {
      "text/html": [
       "<div>\n",
       "<style scoped>\n",
       "    .dataframe tbody tr th:only-of-type {\n",
       "        vertical-align: middle;\n",
       "    }\n",
       "\n",
       "    .dataframe tbody tr th {\n",
       "        vertical-align: top;\n",
       "    }\n",
       "\n",
       "    .dataframe thead th {\n",
       "        text-align: right;\n",
       "    }\n",
       "</style>\n",
       "<table border=\"1\" class=\"dataframe\">\n",
       "  <thead>\n",
       "    <tr style=\"text-align: right;\">\n",
       "      <th>sample_id</th>\n",
       "      <th>ada_car_d43</th>\n",
       "      <th>ada_car_d48</th>\n",
       "    </tr>\n",
       "    <tr>\n",
       "      <th>gene_name</th>\n",
       "      <th></th>\n",
       "      <th></th>\n",
       "    </tr>\n",
       "  </thead>\n",
       "  <tbody>\n",
       "    <tr>\n",
       "      <th>DPM1</th>\n",
       "      <td>987.397636</td>\n",
       "      <td>818.058606</td>\n",
       "    </tr>\n",
       "    <tr>\n",
       "      <th>SCYL3</th>\n",
       "      <td>227.337141</td>\n",
       "      <td>225.683714</td>\n",
       "    </tr>\n",
       "    <tr>\n",
       "      <th>FIRRM</th>\n",
       "      <td>307.984505</td>\n",
       "      <td>280.205591</td>\n",
       "    </tr>\n",
       "    <tr>\n",
       "      <th>FGR</th>\n",
       "      <td>19.670148</td>\n",
       "      <td>7.469639</td>\n",
       "    </tr>\n",
       "    <tr>\n",
       "      <th>CFH</th>\n",
       "      <td>5.054063</td>\n",
       "      <td>13.641395</td>\n",
       "    </tr>\n",
       "  </tbody>\n",
       "</table>\n",
       "</div>"
      ],
      "text/plain": [
       "sample_id  ada_car_d43  ada_car_d48\n",
       "gene_name                          \n",
       "DPM1        987.397636   818.058606\n",
       "SCYL3       227.337141   225.683714\n",
       "FIRRM       307.984505   280.205591\n",
       "FGR          19.670148     7.469639\n",
       "CFH           5.054063    13.641395"
      ]
     },
     "execution_count": 77,
     "metadata": {},
     "output_type": "execute_result"
    }
   ],
   "source": [
    "## Make a table with just the ada treated\n",
    "\n",
    "\n",
    "ada = expressed_genes[['ada_car_d43', 'ada_car_d48']] \n",
    "ada.head()"
   ]
  },
  {
   "cell_type": "code",
   "execution_count": 78,
   "id": "d5d2e106-3dfd-470c-adfe-0392bcd3f234",
   "metadata": {
    "tags": []
   },
   "outputs": [
    {
     "data": {
      "text/html": [
       "<div>\n",
       "<style scoped>\n",
       "    .dataframe tbody tr th:only-of-type {\n",
       "        vertical-align: middle;\n",
       "    }\n",
       "\n",
       "    .dataframe tbody tr th {\n",
       "        vertical-align: top;\n",
       "    }\n",
       "\n",
       "    .dataframe thead th {\n",
       "        text-align: right;\n",
       "    }\n",
       "</style>\n",
       "<table border=\"1\" class=\"dataframe\">\n",
       "  <thead>\n",
       "    <tr style=\"text-align: right;\">\n",
       "      <th>sample_id</th>\n",
       "      <th>car_d43</th>\n",
       "      <th>car_d48</th>\n",
       "    </tr>\n",
       "    <tr>\n",
       "      <th>gene_name</th>\n",
       "      <th></th>\n",
       "      <th></th>\n",
       "    </tr>\n",
       "  </thead>\n",
       "  <tbody>\n",
       "    <tr>\n",
       "      <th>DPM1</th>\n",
       "      <td>2000.594989</td>\n",
       "      <td>1127.081955</td>\n",
       "    </tr>\n",
       "    <tr>\n",
       "      <th>SCYL3</th>\n",
       "      <td>187.339427</td>\n",
       "      <td>158.398846</td>\n",
       "    </tr>\n",
       "    <tr>\n",
       "      <th>FIRRM</th>\n",
       "      <td>500.419907</td>\n",
       "      <td>409.166714</td>\n",
       "    </tr>\n",
       "    <tr>\n",
       "      <th>FGR</th>\n",
       "      <td>0.572627</td>\n",
       "      <td>6.564714</td>\n",
       "    </tr>\n",
       "    <tr>\n",
       "      <th>CFH</th>\n",
       "      <td>184.635838</td>\n",
       "      <td>21.380157</td>\n",
       "    </tr>\n",
       "  </tbody>\n",
       "</table>\n",
       "</div>"
      ],
      "text/plain": [
       "sample_id      car_d43      car_d48\n",
       "gene_name                          \n",
       "DPM1       2000.594989  1127.081955\n",
       "SCYL3       187.339427   158.398846\n",
       "FIRRM       500.419907   409.166714\n",
       "FGR           0.572627     6.564714\n",
       "CFH         184.635838    21.380157"
      ]
     },
     "execution_count": 78,
     "metadata": {},
     "output_type": "execute_result"
    }
   ],
   "source": [
    "## Make a table with just the control treated\n",
    "control = expressed_genes[['car_d43', 'car_d48']]  # Adjust based on actual column names for 'control'\n",
    "control.head()\n"
   ]
  },
  {
   "cell_type": "code",
   "execution_count": 79,
   "id": "91fbb7ff-803d-4c2d-bb85-86aac26c16cf",
   "metadata": {
    "tags": []
   },
   "outputs": [
    {
     "data": {
      "text/plain": [
       "gene_name\n",
       "DPM1    -0.792728\n",
       "SCYL3    0.389897\n",
       "FIRRM   -0.628929\n",
       "FGR      1.926951\n",
       "CFH     -3.461997\n",
       "dtype: float64"
      ]
     },
     "execution_count": 79,
     "metadata": {},
     "output_type": "execute_result"
    }
   ],
   "source": [
    "# Calculate a log2 ratio of the difference in expression\n",
    "\n",
    "# Calculate the mean expression for each gene across samples in the 'ada' and 'control' groups\n",
    "ada_mean = ada.mean(axis=1)\n",
    "control_mean = control.mean(axis=1)\n",
    "epsilon = 1e-8\n",
    "# Calculate the log2 ratio of the difference in expression, adding a small constant to the control_mean\n",
    "log2rc = np.log2((ada_mean + epsilon) / (control_mean + epsilon))\n",
    "\n",
    "# Print or inspect the results\n",
    "log2rc.head()\n"
   ]
  },
  {
   "cell_type": "code",
   "execution_count": 80,
   "id": "133dd902-41c0-4e07-99a4-16f61f047052",
   "metadata": {
    "tags": []
   },
   "outputs": [],
   "source": [
    "# When doing matrix level t-tests, the scipy package is easier.\n",
    "## note that I adjusted to use ttest_rel instead of ttestind\n",
    "from scipy.stats import ttest_rel\n",
    "import pingouin as pg"
   ]
  },
  {
   "cell_type": "code",
   "execution_count": 81,
   "id": "94c82950-1fa0-490a-8fa3-485ac84c89c5",
   "metadata": {
    "tags": []
   },
   "outputs": [
    {
     "data": {
      "text/plain": [
       "(gene_name\n",
       " DPM1     0.311538\n",
       " SCYL3    0.158561\n",
       " FIRRM    0.124132\n",
       " FGR      0.469857\n",
       " CFH      0.472583\n",
       " dtype: float64,\n",
       " array([0.61165497, 0.5621196 , 0.55128413, 0.6917387 , 0.69282041]))"
      ]
     },
     "execution_count": 81,
     "metadata": {},
     "output_type": "execute_result"
    }
   ],
   "source": [
    "# Calculate a p-value for each gene\n",
    "\n",
    "\n",
    "# Perform t-test for each gene\n",
    "_, pvals = ttest_rel(ada, control, axis=1)  # Use ttest_rel for paired samples\n",
    "\n",
    "# Convert p-values into a pandas Series with gene names as index\n",
    "pval_ser = pd.Series(pvals, index=expressed_genes.index)\n",
    "\n",
    "# Apply Benjamini-Hochberg correction for multiple testing\n",
    "_, bh_pvals = pg.multicomp(pval_ser, alpha=0.05, method='fdr_bh')\n",
    "\n",
    "# View corrected p-values\n",
    "pval_ser.head(), bh_pvals[:5]\n"
   ]
  },
  {
   "cell_type": "code",
   "execution_count": 82,
   "id": "5bcc97ae-a13a-4c49-8f4a-08f049bab470",
   "metadata": {
    "tags": []
   },
   "outputs": [
    {
     "data": {
      "text/plain": [
       "gene_name\n",
       "DPM1               1233.283297\n",
       "SCYL3               199.689782\n",
       "FIRRM               374.444179\n",
       "FGR                   8.569282\n",
       "CFH                  56.177863\n",
       "                      ...     \n",
       "ENSG00000293562     822.592223\n",
       "ENSG00000293574       3.921708\n",
       "ENSG00000293588       5.148785\n",
       "ENSG00000293599       7.467447\n",
       "ENSG00000293600     341.170357\n",
       "Length: 19658, dtype: float64"
      ]
     },
     "execution_count": 82,
     "metadata": {},
     "output_type": "execute_result"
    }
   ],
   "source": [
    "## Make a results table with p log2FC, pvals, bhVals and mean expression. \n",
    "## first find mean expression by completing the following \n",
    "\n",
    "\n",
    "mean_expression = pd.concat([ada, control], axis=1).mean(axis=1)\n",
    "mean_expression\n"
   ]
  },
  {
   "cell_type": "code",
   "execution_count": 87,
   "id": "117311b8-32c2-4448-88a4-698a8210a7b2",
   "metadata": {
    "tags": []
   },
   "outputs": [
    {
     "data": {
      "text/html": [
       "<div>\n",
       "<style scoped>\n",
       "    .dataframe tbody tr th:only-of-type {\n",
       "        vertical-align: middle;\n",
       "    }\n",
       "\n",
       "    .dataframe tbody tr th {\n",
       "        vertical-align: top;\n",
       "    }\n",
       "\n",
       "    .dataframe thead th {\n",
       "        text-align: right;\n",
       "    }\n",
       "</style>\n",
       "<table border=\"1\" class=\"dataframe\">\n",
       "  <thead>\n",
       "    <tr style=\"text-align: right;\">\n",
       "      <th></th>\n",
       "      <th>log2FC</th>\n",
       "      <th>pvals</th>\n",
       "      <th>bh_pvals</th>\n",
       "      <th>mean_expression</th>\n",
       "    </tr>\n",
       "    <tr>\n",
       "      <th>gene_name</th>\n",
       "      <th></th>\n",
       "      <th></th>\n",
       "      <th></th>\n",
       "      <th></th>\n",
       "    </tr>\n",
       "  </thead>\n",
       "  <tbody>\n",
       "    <tr>\n",
       "      <th>DPM1</th>\n",
       "      <td>-0.792728</td>\n",
       "      <td>0.311538</td>\n",
       "      <td>0.611655</td>\n",
       "      <td>1233.283297</td>\n",
       "    </tr>\n",
       "    <tr>\n",
       "      <th>SCYL3</th>\n",
       "      <td>0.389897</td>\n",
       "      <td>0.158561</td>\n",
       "      <td>0.562120</td>\n",
       "      <td>199.689782</td>\n",
       "    </tr>\n",
       "    <tr>\n",
       "      <th>FIRRM</th>\n",
       "      <td>-0.628929</td>\n",
       "      <td>0.124132</td>\n",
       "      <td>0.551284</td>\n",
       "      <td>374.444179</td>\n",
       "    </tr>\n",
       "    <tr>\n",
       "      <th>FGR</th>\n",
       "      <td>1.926951</td>\n",
       "      <td>0.469857</td>\n",
       "      <td>0.691739</td>\n",
       "      <td>8.569282</td>\n",
       "    </tr>\n",
       "    <tr>\n",
       "      <th>CFH</th>\n",
       "      <td>-3.461997</td>\n",
       "      <td>0.472583</td>\n",
       "      <td>0.692820</td>\n",
       "      <td>56.177863</td>\n",
       "    </tr>\n",
       "  </tbody>\n",
       "</table>\n",
       "</div>"
      ],
      "text/plain": [
       "             log2FC     pvals  bh_pvals  mean_expression\n",
       "gene_name                                               \n",
       "DPM1      -0.792728  0.311538  0.611655      1233.283297\n",
       "SCYL3      0.389897  0.158561  0.562120       199.689782\n",
       "FIRRM     -0.628929  0.124132  0.551284       374.444179\n",
       "FGR        1.926951  0.469857  0.691739         8.569282\n",
       "CFH       -3.461997  0.472583  0.692820        56.177863"
      ]
     },
     "execution_count": 87,
     "metadata": {},
     "output_type": "execute_result"
    }
   ],
   "source": [
    "## Make a results table with p log2FC, pvals, bhVals and mean expression. \n",
    "\n",
    "differential_expression = pd.DataFrame({'log2FC': log2rc,\n",
    "                            'pvals': pvals,\n",
    "                            'bh_pvals': bh_pvals,\n",
    "                            'mean_expression': mean_expression})\n",
    "differential_expression.head()"
   ]
  },
  {
   "cell_type": "markdown",
   "id": "4f41cb44-8c68-4ac6-822c-c95eca4c6a2b",
   "metadata": {},
   "source": [
    "### Volcano Plot\n"
   ]
  },
  {
   "cell_type": "code",
   "execution_count": 89,
   "id": "78b855b0-f1a5-478f-861d-bda257ecdfbc",
   "metadata": {
    "tags": []
   },
   "outputs": [
    {
     "data": {
      "text/plain": [
       "<AxesSubplot: xlabel='log2FC', ylabel='bh_pvals'>"
      ]
     },
     "execution_count": 89,
     "metadata": {},
     "output_type": "execute_result"
    },
    {
     "data": {
      "image/png": "[encoded data removed]",
      "text/plain": [
       "<Figure size 640x480 with 1 Axes>"
      ]
     },
     "metadata": {},
     "output_type": "display_data"
    }
   ],
   "source": [
    "sns.scatterplot(data = differential_expression,\n",
    "                x = 'log2FC',\n",
    "                y = -np.log10(differential_expression['bh_pvals']),\n",
    "                alpha=0.5)"
   ]
  },
  {
   "cell_type": "code",
   "execution_count": 90,
   "id": "659d411b-3e62-4dbb-991a-dceb1e1c18e9",
   "metadata": {
    "tags": []
   },
   "outputs": [
    {
     "data": {
      "image/png": "[encoded data removed]",
      "text/plain": [
       "<Figure size 640x480 with 1 Axes>"
      ]
     },
     "metadata": {},
     "output_type": "display_data"
    }
   ],
   "source": [
    "import matplotlib.pyplot as plt\n",
    "\n",
    "# Base scatterplot for all data points\n",
    "ax = sns.scatterplot(data=differential_expression,\n",
    "                     x='mean_expression',\n",
    "                     y='log2FC',\n",
    "                     alpha=0.1, label=\"All genes\")\n",
    "\n",
    "# Highlight significant points in a different color\n",
    "sns.scatterplot(data=differential_expression[differential_expression['bh_pvals'] < 0.05],\n",
    "                x='mean_expression',\n",
    "                y='log2FC',\n",
    "                alpha=0.5, color='red', label=\"Significant (FDR < 0.05)\")\n",
    "\n",
    "# Set the x-axis to log scale\n",
    "ax.set_xscale('log')\n",
    "\n",
    "# Add axis labels and a legend\n",
    "ax.set_xlabel('Mean Expression (log scale)')\n",
    "ax.set_ylabel('Log2 Fold Change')\n",
    "ax.legend()\n",
    "\n",
    "# Show the plot\n",
    "plt.show()"
   ]
  },
  {
   "cell_type": "code",
   "execution_count": 103,
   "id": "13acef3a-bb6b-4b25-8799-99f12456f97b",
   "metadata": {
    "tags": []
   },
   "outputs": [],
   "source": [
    "## export CSV for all differentially expressed genes, and only sorting on significantly differentially expressed genes\n",
    "\n",
    "differential_expression.to_csv('differential_expression.csv', index=True)\n"
   ]
  },
  {
   "cell_type": "code",
   "execution_count": 116,
   "id": "1c2abd35-d9b1-42fc-abd4-3c9b781c38a4",
   "metadata": {
    "tags": []
   },
   "outputs": [
    {
     "data": {
      "text/html": [
       "<div>\n",
       "<style scoped>\n",
       "    .dataframe tbody tr th:only-of-type {\n",
       "        vertical-align: middle;\n",
       "    }\n",
       "\n",
       "    .dataframe tbody tr th {\n",
       "        vertical-align: top;\n",
       "    }\n",
       "\n",
       "    .dataframe thead th {\n",
       "        text-align: right;\n",
       "    }\n",
       "</style>\n",
       "<table border=\"1\" class=\"dataframe\">\n",
       "  <thead>\n",
       "    <tr style=\"text-align: right;\">\n",
       "      <th></th>\n",
       "      <th>log2FC</th>\n",
       "      <th>pvals</th>\n",
       "      <th>bh_pvals</th>\n",
       "      <th>mean_expression</th>\n",
       "    </tr>\n",
       "    <tr>\n",
       "      <th>gene_name</th>\n",
       "      <th></th>\n",
       "      <th></th>\n",
       "      <th></th>\n",
       "      <th></th>\n",
       "    </tr>\n",
       "  </thead>\n",
       "  <tbody>\n",
       "    <tr>\n",
       "      <th>ANK1</th>\n",
       "      <td>1.466579</td>\n",
       "      <td>0.000126</td>\n",
       "      <td>0.038006</td>\n",
       "      <td>43.397792</td>\n",
       "    </tr>\n",
       "    <tr>\n",
       "      <th>PIGU</th>\n",
       "      <td>-0.246647</td>\n",
       "      <td>0.000039</td>\n",
       "      <td>0.022395</td>\n",
       "      <td>309.337790</td>\n",
       "    </tr>\n",
       "    <tr>\n",
       "      <th>SFXN3</th>\n",
       "      <td>0.530418</td>\n",
       "      <td>0.000073</td>\n",
       "      <td>0.024725</td>\n",
       "      <td>664.764617</td>\n",
       "    </tr>\n",
       "    <tr>\n",
       "      <th>GOLIM4</th>\n",
       "      <td>-1.723196</td>\n",
       "      <td>0.000139</td>\n",
       "      <td>0.041451</td>\n",
       "      <td>275.724481</td>\n",
       "    </tr>\n",
       "    <tr>\n",
       "      <th>PFN1P10</th>\n",
       "      <td>32.029967</td>\n",
       "      <td>0.000064</td>\n",
       "      <td>0.022395</td>\n",
       "      <td>21.925562</td>\n",
       "    </tr>\n",
       "  </tbody>\n",
       "</table>\n",
       "</div>"
      ],
      "text/plain": [
       "              log2FC     pvals  bh_pvals  mean_expression\n",
       "gene_name                                                \n",
       "ANK1        1.466579  0.000126  0.038006        43.397792\n",
       "PIGU       -0.246647  0.000039  0.022395       309.337790\n",
       "SFXN3       0.530418  0.000073  0.024725       664.764617\n",
       "GOLIM4     -1.723196  0.000139  0.041451       275.724481\n",
       "PFN1P10    32.029967  0.000064  0.022395        21.925562"
      ]
     },
     "execution_count": 116,
     "metadata": {},
     "output_type": "execute_result"
    }
   ],
   "source": [
    "\n",
    "# Filter the DataFrame to include only rows where FDR (bh_pvals) < 0.05 and export CSV\n",
    "\n",
    "sig_differential_expression = differential_expression[differential_expression['bh_pvals'] < 0.05]\n",
    "\n",
    "sig_differential_expression.to_csv('sig_differential_expression.csv', index=True)\n",
    "sig_differential_expression.head()\n"
   ]
  },
  {
   "cell_type": "code",
   "execution_count": 113,
   "id": "f6831229-54e4-41dd-b9d4-5816e6415636",
   "metadata": {
    "tags": []
   },
   "outputs": [],
   "source": [
    "## Make a df that only contains the groups where the log2FC is >20 and export CSV\n",
    "\n",
    "filter_log2fc_high = differential_expression[differential_expression['log2FC'] > 20]\n",
    "\n",
    "filter_log2fc_high.to_csv('filtered_log2fc_high.csv', index=True)"
   ]
  },
  {
   "cell_type": "code",
   "execution_count": 114,
   "id": "a47efa92-df1e-4274-8bec-3f297b1a703d",
   "metadata": {
    "tags": []
   },
   "outputs": [],
   "source": [
    "## Make a df that only contains the groups where log2FC is between -10 and 10 to contain the  middle groups and export CSV\n",
    "\n",
    "\n",
    "filtered_log2fc_low = differential_expression[(differential_expression['log2FC'] >= -10) & (differential_expression['log2FC'] <= 10)]\n",
    "\n",
    "# Inspect the resulting DataFrame\n",
    "filtered_log2fc_low.to_csv('filtered_log2fc_low.csv', index=True)"
   ]
  },
  {
   "cell_type": "markdown",
   "id": "3e1b72b9-7405-44a4-a032-341f47a4086b",
   "metadata": {
    "tags": []
   },
   "source": [
    "### Linear Models"
   ]
  },
  {
   "cell_type": "markdown",
   "id": "99c9229d-d08f-4a0c-87b3-6d20240206f3",
   "metadata": {},
   "source": [
    "Instead of a standard _differential expression_ analysis which performs a standard two-group analysis, this uses a linear regression model.\n",
    "\n",
    "Because I only have 2 groups I do not have a need for linear models and deleted the rest of the notebook."
   ]
  },
  {
   "cell_type": "markdown",
   "id": "e2de54e0-4110-419e-bcca-6d29526dfbc0",
   "metadata": {
    "tags": []
   },
   "source": [
    "### Gene Set Enrichment Analysis\n",
    "- Now that I have a standard differential expression analysis, I can look to see which pathways may be of interest. \n"
   ]
  },
  {
   "cell_type": "code",
   "execution_count": 133,
   "id": "5f0f0a9a-cdcb-43c3-bc84-730744021412",
   "metadata": {
    "tags": []
   },
   "outputs": [],
   "source": [
    "## EXTRACT THE NAMES of the differentially expressed genes to load to enrichr\n",
    "\n",
    "genes = pd.DataFrame(differential_expression.index, columns=['gene_name'])\n",
    "genes.to_csv('genes.csv', index=False)\n"
   ]
  },
  {
   "cell_type": "code",
   "execution_count": 129,
   "id": "d47c1645-dedc-4e78-8d47-ca44408debc8",
   "metadata": {
    "tags": []
   },
   "outputs": [],
   "source": [
    "## sig gene names\n",
    "\n",
    "sig_genes = pd.DataFrame(sig_differential_expression.index, columns=['gene_name'])\n",
    "sig_genes.to_csv('genes_sig.csv', index=False)"
   ]
  },
  {
   "cell_type": "code",
   "execution_count": 130,
   "id": "9ec72ca1-1f9f-4caf-8179-38808d518287",
   "metadata": {},
   "outputs": [],
   "source": [
    "## high log2fc gene names\n",
    "\n",
    "highlog_genes = pd.DataFrame(filter_log2fc_high.index, columns=['gene_name'])\n",
    "highlog_genes.to_csv('genes_high.csv', index=False)"
   ]
  },
  {
   "cell_type": "code",
   "execution_count": 132,
   "id": "42c25511-c2e2-4e61-b69b-a6311d36d793",
   "metadata": {
    "tags": []
   },
   "outputs": [],
   "source": [
    "## low log2fc gene names\n",
    "\n",
    "lowlog_genes = pd.DataFrame(filtered_log2fc_low.index, columns=['gene_name'])\n",
    "lowlog_genes.to_csv('genes_low.csv', index=False)"
   ]
  }
 ],
 "metadata": {
  "kernelspec": {
   "display_name": "Python 3 (ipykernel)",
   "language": "python",
   "name": "python3"
  },
  "language_info": {
   "codemirror_mode": {
    "name": "ipython",
    "version": 3
   },
   "file_extension": ".py",
   "mimetype": "text/x-python",
   "name": "python",
   "nbconvert_exporter": "python",
   "pygments_lexer": "ipython3",
   "version": "3.9.9"
  }
 },
 "nbformat": 4,
 "nbformat_minor": 5
}
