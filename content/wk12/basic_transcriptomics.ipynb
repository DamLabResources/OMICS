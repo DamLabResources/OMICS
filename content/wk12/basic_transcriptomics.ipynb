{
 "cells": [
  {
   "cell_type": "markdown",
   "id": "4877d9d0-b22f-4c4b-b821-4bb1cdc94547",
   "metadata": {},
   "source": [
    "# Basic Transcriptomics"
   ]
  },
  {
   "cell_type": "markdown",
   "id": "1d3d9a10-e71e-467f-9e77-749a257daf69",
   "metadata": {},
   "source": [
    "In this exercise we'll use data from an upcoming publication by Dr. Jill Lawrence.\n",
    "In the experiment she applied extracellular Tat and/or Stimulation to microglia and then used Illumina's RNA-seq kit.\n",
    "The library was sequenced by the Genomics Core and I ran the `nfcore/rnaseq` pipeline.\n",
    "This data uses the `salmon` gene count file."
   ]
  },
  {
   "cell_type": "code",
   "execution_count": 2,
   "id": "24c68994-dee1-4b1f-a85d-eaca88243cf9",
   "metadata": {
    "tags": []
   },
   "outputs": [
    {
     "name": "stderr",
     "output_type": "stream",
     "text": [
      "/opt/tljh/user/lib/python3.9/site-packages/pandas/core/arrays/masked.py:60: UserWarning: Pandas requires version '1.3.6' or newer of 'bottleneck' (version '1.3.5' currently installed).\n",
      "  from pandas.core import (\n"
     ]
    }
   ],
   "source": [
    "# Data-science\n",
    "import numpy as np\n",
    "import pandas as pd\n",
    "import matplotlib.pyplot as plt\n",
    "import seaborn as sns\n",
    "import pingouin as pg\n",
    "\n",
    "import warnings\n",
    "# Suppress FutureWarning messages\n",
    "warnings.simplefilter(action='ignore', category=FutureWarning)"
   ]
  },
  {
   "cell_type": "markdown",
   "id": "3349f219-7905-47be-b3e7-a859a3ab9b8a",
   "metadata": {},
   "source": [
    "## Data"
   ]
  },
  {
   "cell_type": "markdown",
   "id": "3f68476b-ebfd-4959-8870-6e0ecac94a88",
   "metadata": {},
   "source": [
    "Read in the data using `pandas` just like in Biostats."
   ]
  },
  {
   "cell_type": "code",
   "execution_count": 3,
   "id": "f5762de9-4e4c-47b9-a8dc-5d5b0897c84c",
   "metadata": {
    "tags": []
   },
   "outputs": [],
   "source": [
    "# The data is stored centrally\n",
    "PREFIX = '/data/share/OMICS/wk12'"
   ]
  },
  {
   "cell_type": "markdown",
   "id": "a4c0cfed-8a57-4961-80ca-ddc402470cab",
   "metadata": {},
   "source": [
    "### Sample Sheet"
   ]
  },
  {
   "cell_type": "code",
   "execution_count": 4,
   "id": "a482cfd1-bf5d-4bc2-a723-ff6b3f3bd892",
   "metadata": {
    "tags": []
   },
   "outputs": [
    {
     "data": {
      "text/html": [
       "<div>\n",
       "<style scoped>\n",
       "    .dataframe tbody tr th:only-of-type {\n",
       "        vertical-align: middle;\n",
       "    }\n",
       "\n",
       "    .dataframe tbody tr th {\n",
       "        vertical-align: top;\n",
       "    }\n",
       "\n",
       "    .dataframe thead th {\n",
       "        text-align: right;\n",
       "    }\n",
       "</style>\n",
       "<table border=\"1\" class=\"dataframe\">\n",
       "  <thead>\n",
       "    <tr style=\"text-align: right;\">\n",
       "      <th></th>\n",
       "      <th>set</th>\n",
       "      <th>timepoint</th>\n",
       "      <th>treatment</th>\n",
       "      <th>Stim</th>\n",
       "      <th>Tat</th>\n",
       "      <th>replicate</th>\n",
       "    </tr>\n",
       "    <tr>\n",
       "      <th>sample</th>\n",
       "      <th></th>\n",
       "      <th></th>\n",
       "      <th></th>\n",
       "      <th></th>\n",
       "      <th></th>\n",
       "      <th></th>\n",
       "    </tr>\n",
       "  </thead>\n",
       "  <tbody>\n",
       "    <tr>\n",
       "      <th>d_4X_A_3</th>\n",
       "      <td>d</td>\n",
       "      <td>4X</td>\n",
       "      <td>Control</td>\n",
       "      <td>No</td>\n",
       "      <td>No</td>\n",
       "      <td>3</td>\n",
       "    </tr>\n",
       "    <tr>\n",
       "      <th>d_4X_A_5</th>\n",
       "      <td>d</td>\n",
       "      <td>4X</td>\n",
       "      <td>Control</td>\n",
       "      <td>No</td>\n",
       "      <td>No</td>\n",
       "      <td>5</td>\n",
       "    </tr>\n",
       "    <tr>\n",
       "      <th>d_4X_B_3</th>\n",
       "      <td>d</td>\n",
       "      <td>4X</td>\n",
       "      <td>Stim</td>\n",
       "      <td>Yes</td>\n",
       "      <td>No</td>\n",
       "      <td>3</td>\n",
       "    </tr>\n",
       "    <tr>\n",
       "      <th>d_4X_B_6</th>\n",
       "      <td>d</td>\n",
       "      <td>4X</td>\n",
       "      <td>Stim</td>\n",
       "      <td>Yes</td>\n",
       "      <td>No</td>\n",
       "      <td>6</td>\n",
       "    </tr>\n",
       "    <tr>\n",
       "      <th>d_4X_C_1</th>\n",
       "      <td>d</td>\n",
       "      <td>4X</td>\n",
       "      <td>Tat50</td>\n",
       "      <td>No</td>\n",
       "      <td>Tat50</td>\n",
       "      <td>1</td>\n",
       "    </tr>\n",
       "  </tbody>\n",
       "</table>\n",
       "</div>"
      ],
      "text/plain": [
       "         set timepoint treatment Stim    Tat  replicate\n",
       "sample                                                 \n",
       "d_4X_A_3   d        4X   Control   No     No          3\n",
       "d_4X_A_5   d        4X   Control   No     No          5\n",
       "d_4X_B_3   d        4X      Stim  Yes     No          3\n",
       "d_4X_B_6   d        4X      Stim  Yes     No          6\n",
       "d_4X_C_1   d        4X     Tat50   No  Tat50          1"
      ]
     },
     "execution_count": 4,
     "metadata": {},
     "output_type": "execute_result"
    }
   ],
   "source": [
    "sample_sheet = pd.read_csv(f'{PREFIX}/061124_info_sheet.csv')\n",
    "\n",
    "# Enforce order on categorical variables\n",
    "sample_sheet['timepoint'] = pd.Categorical(sample_sheet['timepoint'], categories = ['4X', '6X'])\n",
    "sample_sheet['Stim'] = pd.Categorical(sample_sheet['Stim'], categories = ['No', 'Yes'])\n",
    "sample_sheet['Tat'] = pd.Categorical(sample_sheet['Tat'], categories = ['No', 'Tat50', 'Tat250'])\n",
    "sample_sheet.set_index('sample', inplace=True)\n",
    "sample_sheet.head()"
   ]
  },
  {
   "cell_type": "code",
   "execution_count": 10,
   "id": "df91932b-4c52-4d2a-89d4-214059ddf12e",
   "metadata": {
    "tags": []
   },
   "outputs": [
    {
     "data": {
      "text/html": [
       "<div>\n",
       "<style scoped>\n",
       "    .dataframe tbody tr th:only-of-type {\n",
       "        vertical-align: middle;\n",
       "    }\n",
       "\n",
       "    .dataframe tbody tr th {\n",
       "        vertical-align: top;\n",
       "    }\n",
       "\n",
       "    .dataframe thead th {\n",
       "        text-align: right;\n",
       "    }\n",
       "</style>\n",
       "<table border=\"1\" class=\"dataframe\">\n",
       "  <thead>\n",
       "    <tr style=\"text-align: right;\">\n",
       "      <th>timepoint</th>\n",
       "      <th>4X</th>\n",
       "      <th>6X</th>\n",
       "    </tr>\n",
       "    <tr>\n",
       "      <th>treatment</th>\n",
       "      <th></th>\n",
       "      <th></th>\n",
       "    </tr>\n",
       "  </thead>\n",
       "  <tbody>\n",
       "    <tr>\n",
       "      <th>Control</th>\n",
       "      <td>3</td>\n",
       "      <td>3</td>\n",
       "    </tr>\n",
       "    <tr>\n",
       "      <th>Stim</th>\n",
       "      <td>3</td>\n",
       "      <td>3</td>\n",
       "    </tr>\n",
       "    <tr>\n",
       "      <th>Stim+Tat50</th>\n",
       "      <td>3</td>\n",
       "      <td>0</td>\n",
       "    </tr>\n",
       "    <tr>\n",
       "      <th>Tat250</th>\n",
       "      <td>3</td>\n",
       "      <td>0</td>\n",
       "    </tr>\n",
       "    <tr>\n",
       "      <th>Tat50</th>\n",
       "      <td>3</td>\n",
       "      <td>3</td>\n",
       "    </tr>\n",
       "  </tbody>\n",
       "</table>\n",
       "</div>"
      ],
      "text/plain": [
       "timepoint   4X  6X\n",
       "treatment         \n",
       "Control      3   3\n",
       "Stim         3   3\n",
       "Stim+Tat50   3   0\n",
       "Tat250       3   0\n",
       "Tat50        3   3"
      ]
     },
     "execution_count": 10,
     "metadata": {},
     "output_type": "execute_result"
    }
   ],
   "source": [
    "pd.pivot_table(sample_sheet.reset_index(),\n",
    "               columns = 'timepoint',\n",
    "               index = 'treatment',\n",
    "               values = 'sample', aggfunc = 'count')"
   ]
  },
  {
   "cell_type": "markdown",
   "id": "5da3b819-6ca4-4ee1-8b30-171942ef2cb4",
   "metadata": {},
   "source": [
    "### Read in transcriptome"
   ]
  },
  {
   "cell_type": "code",
   "execution_count": 6,
   "id": "ce6b4195-2be0-4fc1-9181-bcb8d6e5388c",
   "metadata": {
    "tags": []
   },
   "outputs": [
    {
     "data": {
      "text/html": [
       "<div>\n",
       "<style scoped>\n",
       "    .dataframe tbody tr th:only-of-type {\n",
       "        vertical-align: middle;\n",
       "    }\n",
       "\n",
       "    .dataframe tbody tr th {\n",
       "        vertical-align: top;\n",
       "    }\n",
       "\n",
       "    .dataframe thead th {\n",
       "        text-align: right;\n",
       "    }\n",
       "</style>\n",
       "<table border=\"1\" class=\"dataframe\">\n",
       "  <thead>\n",
       "    <tr style=\"text-align: right;\">\n",
       "      <th>sample_id</th>\n",
       "      <th>d_4X_A_3</th>\n",
       "      <th>d_4X_A_5</th>\n",
       "      <th>d_4X_B_3</th>\n",
       "      <th>d_4X_B_6</th>\n",
       "      <th>d_4X_C_1</th>\n",
       "      <th>d_4X_C_2</th>\n",
       "      <th>d_4X_D_3</th>\n",
       "      <th>d_4X_D_4</th>\n",
       "      <th>e_6X_A_1</th>\n",
       "      <th>e_6X_A_2</th>\n",
       "      <th>...</th>\n",
       "      <th>e_6X_C_1</th>\n",
       "      <th>e_6X_C_2</th>\n",
       "      <th>e_6X_C_3</th>\n",
       "      <th>f_4X_A_3</th>\n",
       "      <th>f_4X_B_2</th>\n",
       "      <th>f_4X_C_3</th>\n",
       "      <th>f_4X_D_1</th>\n",
       "      <th>f_4X_E_1</th>\n",
       "      <th>f_4X_E_2</th>\n",
       "      <th>f_4X_E_3</th>\n",
       "    </tr>\n",
       "    <tr>\n",
       "      <th>gene_name</th>\n",
       "      <th></th>\n",
       "      <th></th>\n",
       "      <th></th>\n",
       "      <th></th>\n",
       "      <th></th>\n",
       "      <th></th>\n",
       "      <th></th>\n",
       "      <th></th>\n",
       "      <th></th>\n",
       "      <th></th>\n",
       "      <th></th>\n",
       "      <th></th>\n",
       "      <th></th>\n",
       "      <th></th>\n",
       "      <th></th>\n",
       "      <th></th>\n",
       "      <th></th>\n",
       "      <th></th>\n",
       "      <th></th>\n",
       "      <th></th>\n",
       "      <th></th>\n",
       "    </tr>\n",
       "  </thead>\n",
       "  <tbody>\n",
       "    <tr>\n",
       "      <th>TSPAN6</th>\n",
       "      <td>579.997449</td>\n",
       "      <td>670.796056</td>\n",
       "      <td>753.583611</td>\n",
       "      <td>855.584442</td>\n",
       "      <td>892.099878</td>\n",
       "      <td>825.672801</td>\n",
       "      <td>897.944840</td>\n",
       "      <td>962.936206</td>\n",
       "      <td>990.947271</td>\n",
       "      <td>941.639039</td>\n",
       "      <td>...</td>\n",
       "      <td>1009.886122</td>\n",
       "      <td>958.816696</td>\n",
       "      <td>1097.816304</td>\n",
       "      <td>428.189007</td>\n",
       "      <td>739.095710</td>\n",
       "      <td>718.458776</td>\n",
       "      <td>532.897250</td>\n",
       "      <td>690.195448</td>\n",
       "      <td>730.166563</td>\n",
       "      <td>687.294492</td>\n",
       "    </tr>\n",
       "    <tr>\n",
       "      <th>TNMD</th>\n",
       "      <td>0.000000</td>\n",
       "      <td>0.000000</td>\n",
       "      <td>0.000000</td>\n",
       "      <td>0.000000</td>\n",
       "      <td>0.000000</td>\n",
       "      <td>0.000000</td>\n",
       "      <td>0.000000</td>\n",
       "      <td>0.000000</td>\n",
       "      <td>0.000000</td>\n",
       "      <td>0.000000</td>\n",
       "      <td>...</td>\n",
       "      <td>0.000000</td>\n",
       "      <td>0.000000</td>\n",
       "      <td>0.000000</td>\n",
       "      <td>0.000000</td>\n",
       "      <td>0.000000</td>\n",
       "      <td>0.000000</td>\n",
       "      <td>0.000000</td>\n",
       "      <td>0.000000</td>\n",
       "      <td>0.000000</td>\n",
       "      <td>0.000000</td>\n",
       "    </tr>\n",
       "    <tr>\n",
       "      <th>DPM1</th>\n",
       "      <td>1206.254716</td>\n",
       "      <td>1157.522129</td>\n",
       "      <td>1679.123712</td>\n",
       "      <td>1750.388724</td>\n",
       "      <td>1599.583418</td>\n",
       "      <td>1481.866328</td>\n",
       "      <td>1393.648238</td>\n",
       "      <td>1201.971314</td>\n",
       "      <td>1490.713088</td>\n",
       "      <td>1147.784264</td>\n",
       "      <td>...</td>\n",
       "      <td>1406.764262</td>\n",
       "      <td>1412.018864</td>\n",
       "      <td>1586.665906</td>\n",
       "      <td>1068.414391</td>\n",
       "      <td>1424.129571</td>\n",
       "      <td>1289.057919</td>\n",
       "      <td>1134.743378</td>\n",
       "      <td>1616.195321</td>\n",
       "      <td>1452.886304</td>\n",
       "      <td>1534.150368</td>\n",
       "    </tr>\n",
       "    <tr>\n",
       "      <th>SCYL3</th>\n",
       "      <td>160.091504</td>\n",
       "      <td>173.177730</td>\n",
       "      <td>149.708446</td>\n",
       "      <td>195.993638</td>\n",
       "      <td>230.973798</td>\n",
       "      <td>211.801600</td>\n",
       "      <td>180.745414</td>\n",
       "      <td>181.522332</td>\n",
       "      <td>162.529619</td>\n",
       "      <td>150.575649</td>\n",
       "      <td>...</td>\n",
       "      <td>151.879717</td>\n",
       "      <td>160.948524</td>\n",
       "      <td>165.887777</td>\n",
       "      <td>110.013489</td>\n",
       "      <td>154.576306</td>\n",
       "      <td>120.697700</td>\n",
       "      <td>133.212596</td>\n",
       "      <td>148.840860</td>\n",
       "      <td>132.737098</td>\n",
       "      <td>126.888166</td>\n",
       "    </tr>\n",
       "    <tr>\n",
       "      <th>FIRRM</th>\n",
       "      <td>85.344948</td>\n",
       "      <td>109.265756</td>\n",
       "      <td>229.151140</td>\n",
       "      <td>394.533424</td>\n",
       "      <td>135.385094</td>\n",
       "      <td>123.958739</td>\n",
       "      <td>137.149077</td>\n",
       "      <td>83.538000</td>\n",
       "      <td>146.577100</td>\n",
       "      <td>127.908869</td>\n",
       "      <td>...</td>\n",
       "      <td>171.660604</td>\n",
       "      <td>134.574522</td>\n",
       "      <td>155.794883</td>\n",
       "      <td>36.318056</td>\n",
       "      <td>49.753586</td>\n",
       "      <td>54.231439</td>\n",
       "      <td>46.937852</td>\n",
       "      <td>60.127233</td>\n",
       "      <td>68.812440</td>\n",
       "      <td>41.919581</td>\n",
       "    </tr>\n",
       "  </tbody>\n",
       "</table>\n",
       "<p>5 rows × 24 columns</p>\n",
       "</div>"
      ],
      "text/plain": [
       "sample_id     d_4X_A_3     d_4X_A_5     d_4X_B_3     d_4X_B_6     d_4X_C_1  \\\n",
       "gene_name                                                                    \n",
       "TSPAN6      579.997449   670.796056   753.583611   855.584442   892.099878   \n",
       "TNMD          0.000000     0.000000     0.000000     0.000000     0.000000   \n",
       "DPM1       1206.254716  1157.522129  1679.123712  1750.388724  1599.583418   \n",
       "SCYL3       160.091504   173.177730   149.708446   195.993638   230.973798   \n",
       "FIRRM        85.344948   109.265756   229.151140   394.533424   135.385094   \n",
       "\n",
       "sample_id     d_4X_C_2     d_4X_D_3     d_4X_D_4     e_6X_A_1     e_6X_A_2  \\\n",
       "gene_name                                                                    \n",
       "TSPAN6      825.672801   897.944840   962.936206   990.947271   941.639039   \n",
       "TNMD          0.000000     0.000000     0.000000     0.000000     0.000000   \n",
       "DPM1       1481.866328  1393.648238  1201.971314  1490.713088  1147.784264   \n",
       "SCYL3       211.801600   180.745414   181.522332   162.529619   150.575649   \n",
       "FIRRM       123.958739   137.149077    83.538000   146.577100   127.908869   \n",
       "\n",
       "sample_id  ...     e_6X_C_1     e_6X_C_2     e_6X_C_3     f_4X_A_3  \\\n",
       "gene_name  ...                                                       \n",
       "TSPAN6     ...  1009.886122   958.816696  1097.816304   428.189007   \n",
       "TNMD       ...     0.000000     0.000000     0.000000     0.000000   \n",
       "DPM1       ...  1406.764262  1412.018864  1586.665906  1068.414391   \n",
       "SCYL3      ...   151.879717   160.948524   165.887777   110.013489   \n",
       "FIRRM      ...   171.660604   134.574522   155.794883    36.318056   \n",
       "\n",
       "sample_id     f_4X_B_2     f_4X_C_3     f_4X_D_1     f_4X_E_1     f_4X_E_2  \\\n",
       "gene_name                                                                    \n",
       "TSPAN6      739.095710   718.458776   532.897250   690.195448   730.166563   \n",
       "TNMD          0.000000     0.000000     0.000000     0.000000     0.000000   \n",
       "DPM1       1424.129571  1289.057919  1134.743378  1616.195321  1452.886304   \n",
       "SCYL3       154.576306   120.697700   133.212596   148.840860   132.737098   \n",
       "FIRRM        49.753586    54.231439    46.937852    60.127233    68.812440   \n",
       "\n",
       "sample_id     f_4X_E_3  \n",
       "gene_name               \n",
       "TSPAN6      687.294492  \n",
       "TNMD          0.000000  \n",
       "DPM1       1534.150368  \n",
       "SCYL3       126.888166  \n",
       "FIRRM        41.919581  \n",
       "\n",
       "[5 rows x 24 columns]"
      ]
     },
     "execution_count": 6,
     "metadata": {},
     "output_type": "execute_result"
    }
   ],
   "source": [
    "rna_matrix = pd.read_csv(f'{PREFIX}/salmon.merged.gene_counts_scaled.tsv', sep='\\t')\n",
    "rna_matrix.columns.name = 'sample_id'\n",
    "rna_matrix = rna_matrix.drop(['gene_id'], axis=1).set_index('gene_name')\n",
    "\n",
    "rna_matrix.head()"
   ]
  },
  {
   "cell_type": "markdown",
   "id": "f9acdeab-42c4-4311-8b80-2332365046ee",
   "metadata": {},
   "source": [
    "### Remove Unusable Rows"
   ]
  },
  {
   "cell_type": "markdown",
   "id": "c2ed7dbc-d508-4f3b-a75a-7652ed5ea734",
   "metadata": {},
   "source": [
    "One thing to note about RNA-seq is that about half of genes are below the level of detection."
   ]
  },
  {
   "cell_type": "code",
   "execution_count": null,
   "id": "29ee03cd-c7cb-43c3-a74d-5f6adc8d1455",
   "metadata": {
    "jupyter": {
     "source_hidden": true
    },
    "tags": []
   },
   "outputs": [],
   "source": [
    "# How many samples is a gene expressed in?\n",
    "sample_count = (rna_matrix>0).sum(axis=1)"
   ]
  },
  {
   "cell_type": "code",
   "execution_count": null,
   "id": "2029c9cc-74bf-4740-93f2-07db8d30bf65",
   "metadata": {
    "jupyter": {
     "source_hidden": true
    },
    "tags": []
   },
   "outputs": [],
   "source": [
    "sns.histplot(sample_count, bins = np.arange(26), stat='count')"
   ]
  },
  {
   "cell_type": "markdown",
   "id": "1c2a52f1-d00a-4dc0-8ec0-4723bf2cf671",
   "metadata": {
    "jupyter": {
     "source_hidden": true
    },
    "tags": []
   },
   "source": [
    "More than 25,000 genes (about 40%) were not measured even once.\n",
    "About 4000 genes were measured in only a single sample.\n",
    "There are only ~17,000 genes that have any meaningful expression across multiple samples.\n",
    "\n",
    "Having these in will mess up many downstream processes by artifically inflating our gene counts.\n",
    "In this case I'm keep all genes expressed (>0) in at least 3 samples; this should still allow genes that are only expressed in a single condition to be captured."
   ]
  },
  {
   "cell_type": "code",
   "execution_count": 11,
   "id": "b009991b-a35c-46e7-a5d2-89bfca6629d4",
   "metadata": {
    "tags": []
   },
   "outputs": [
    {
     "ename": "NameError",
     "evalue": "name 'sample_count' is not defined",
     "output_type": "error",
     "traceback": [
      "\u001b[0;31m---------------------------------------------------------------------------\u001b[0m",
      "\u001b[0;31mNameError\u001b[0m                                 Traceback (most recent call last)",
      "Cell \u001b[0;32mIn[11], line 1\u001b[0m\n\u001b[0;32m----> 1\u001b[0m expressed_genes \u001b[38;5;241m=\u001b[39m rna_matrix\u001b[38;5;241m.\u001b[39mloc[\u001b[43msample_count\u001b[49m\u001b[38;5;241m>\u001b[39m\u001b[38;5;241m=\u001b[39m\u001b[38;5;241m3\u001b[39m]\n\u001b[1;32m      2\u001b[0m \u001b[38;5;28mprint\u001b[39m(\u001b[38;5;124mf\u001b[39m\u001b[38;5;124m'\u001b[39m\u001b[38;5;124mAll genes: \u001b[39m\u001b[38;5;132;01m{\u001b[39;00m\u001b[38;5;28mlen\u001b[39m(rna_matrix)\u001b[38;5;132;01m}\u001b[39;00m\u001b[38;5;130;01m\\n\u001b[39;00m\u001b[38;5;124mExpressed Genes: \u001b[39m\u001b[38;5;132;01m{\u001b[39;00m\u001b[38;5;28mlen\u001b[39m(expressed_genes)\u001b[38;5;132;01m}\u001b[39;00m\u001b[38;5;124m'\u001b[39m)\n",
      "\u001b[0;31mNameError\u001b[0m: name 'sample_count' is not defined"
     ]
    }
   ],
   "source": [
    "expressed_genes = rna_matrix.loc[sample_count>=3]\n",
    "print(f'All genes: {len(rna_matrix)}\\nExpressed Genes: {len(expressed_genes)}')"
   ]
  },
  {
   "cell_type": "markdown",
   "id": "940439a8-16ca-465e-bc32-9a0825944b80",
   "metadata": {
    "tags": []
   },
   "source": [
    "## Common Analyses"
   ]
  },
  {
   "cell_type": "markdown",
   "id": "b7b495a4-fa89-45d5-b8a4-c66eba25c2ed",
   "metadata": {},
   "source": [
    "There are a handful of python libaries we can use.\n",
    "If you're doing single-cell transcriptomics you should use `scanpy`.\n",
    "However, it is a bit overkill when you only have a handful of samples.\n",
    "We'll just use pandas/sklearn/statsmodels.\n",
    "If you're doing something more in-depth, check out the scanpy tutorials."
   ]
  },
  {
   "cell_type": "markdown",
   "id": "08272765-21ac-4472-9572-1196a8ec1adb",
   "metadata": {},
   "source": [
    "### Dimensionality Reduction"
   ]
  },
  {
   "cell_type": "markdown",
   "id": "45257e59-031c-4209-a244-a663cfcc47bc",
   "metadata": {},
   "source": [
    "This is the process of _projecting_ your data into fewer dimensions for visualization.\n",
    "This can be useful as an initial screening to understand how samples cluster with each other."
   ]
  },
  {
   "cell_type": "code",
   "execution_count": 7,
   "id": "08c5ba0f-f906-49ab-8c2d-e238edae9618",
   "metadata": {
    "tags": []
   },
   "outputs": [
    {
     "ename": "NameError",
     "evalue": "name 'expressed_genes' is not defined",
     "output_type": "error",
     "traceback": [
      "\u001b[0;31m---------------------------------------------------------------------------\u001b[0m",
      "\u001b[0;31mNameError\u001b[0m                                 Traceback (most recent call last)",
      "Cell \u001b[0;32mIn[7], line 5\u001b[0m\n\u001b[1;32m      1\u001b[0m \u001b[38;5;28;01mfrom\u001b[39;00m \u001b[38;5;21;01msklearn\u001b[39;00m\u001b[38;5;21;01m.\u001b[39;00m\u001b[38;5;21;01mdecomposition\u001b[39;00m \u001b[38;5;28;01mimport\u001b[39;00m PCA\n\u001b[1;32m      3\u001b[0m \u001b[38;5;66;03m# Project each _sample_ into a smaller dimension\u001b[39;00m\n\u001b[0;32m----> 5\u001b[0m reduced \u001b[38;5;241m=\u001b[39m PCA(n_components\u001b[38;5;241m=\u001b[39m\u001b[38;5;241m2\u001b[39m)\u001b[38;5;241m.\u001b[39mfit_transform(\u001b[43mexpressed_genes\u001b[49m\u001b[38;5;241m.\u001b[39mT)\n\u001b[1;32m      6\u001b[0m ax \u001b[38;5;241m=\u001b[39m sns\u001b[38;5;241m.\u001b[39mscatterplot(x \u001b[38;5;241m=\u001b[39m reduced[:,\u001b[38;5;241m0\u001b[39m], y \u001b[38;5;241m=\u001b[39m reduced[:, \u001b[38;5;241m1\u001b[39m],\n\u001b[1;32m      7\u001b[0m                 hue \u001b[38;5;241m=\u001b[39m sample_sheet[\u001b[38;5;124m'\u001b[39m\u001b[38;5;124mtreatment\u001b[39m\u001b[38;5;124m'\u001b[39m])\n\u001b[1;32m      8\u001b[0m ax\u001b[38;5;241m.\u001b[39mset_xlabel(\u001b[38;5;124m'\u001b[39m\u001b[38;5;124mPC1\u001b[39m\u001b[38;5;124m'\u001b[39m), ax\u001b[38;5;241m.\u001b[39mset_ylabel(\u001b[38;5;124m'\u001b[39m\u001b[38;5;124mPC2\u001b[39m\u001b[38;5;124m'\u001b[39m)\n",
      "\u001b[0;31mNameError\u001b[0m: name 'expressed_genes' is not defined"
     ]
    }
   ],
   "source": [
    "from sklearn.decomposition import PCA\n",
    "\n",
    "# Project each _sample_ into a smaller dimension\n",
    "\n",
    "reduced = PCA(n_components=2).fit_transform(expressed_genes.T)\n",
    "ax = sns.scatterplot(x = reduced[:,0], y = reduced[:, 1],\n",
    "                hue = sample_sheet['treatment'])\n",
    "ax.set_xlabel('PC1'), ax.set_ylabel('PC2')"
   ]
  },
  {
   "cell_type": "markdown",
   "id": "4a900c02-b0d6-45ae-a60a-e6bb4f28a92e",
   "metadata": {},
   "source": [
    "The samples of similar conditions should group together.\n",
    "Here we see a \"Stim\" condition in the middle of a set of \"Stim+Tat50\" samples.\n",
    "Perhaps the Tat was not effective in that sample?\n",
    "\n",
    "We can also see that the controls are intermixed with the Tat only samples but the Stim conditions are distinct.\n",
    "This is evidence that maybe there isn't a big effect of Tat."
   ]
  },
  {
   "cell_type": "markdown",
   "id": "811bd902-92b6-497e-86e0-3f19b8cde9d7",
   "metadata": {},
   "source": [
    "### Visualization"
   ]
  },
  {
   "cell_type": "markdown",
   "id": "060be2d6-05ed-4c0b-b477-9b174afc6c5f",
   "metadata": {
    "tags": []
   },
   "source": [
    "Seaborn is the easiest way to visualize the expression of a few genes across different conditions."
   ]
  },
  {
   "cell_type": "code",
   "execution_count": 8,
   "id": "bd75722f-950c-46d6-858e-084b39ad279f",
   "metadata": {
    "tags": []
   },
   "outputs": [
    {
     "data": {
      "text/plain": [
       "<AxesSubplot: xlabel='treatment', ylabel='KLF5'>"
      ]
     },
     "execution_count": 8,
     "metadata": {},
     "output_type": "execute_result"
    },
    {
     "data": {
      "image/png": "[encoded data removed]",
      "text/plain": [
       "<Figure size 640x480 with 1 Axes>"
      ]
     },
     "metadata": {},
     "output_type": "display_data"
    }
   ],
   "source": [
    "ax = sns.barplot(y = rna_matrix.loc['KLF5', sample_sheet.index],\n",
    "                 x = sample_sheet['treatment'], alpha=0.5)\n",
    "\n",
    "sns.stripplot(y = rna_matrix.loc['KLF5', sample_sheet.index],\n",
    "              x = sample_sheet['treatment'], \n",
    "              ax=ax)"
   ]
  },
  {
   "cell_type": "markdown",
   "id": "50298f73-b71b-4f48-b777-bcf3ce967b1a",
   "metadata": {},
   "source": [
    "For single gene hypothesis testing, Pingouin is easiest for doing your statistics.\n",
    "\n",
    "I suggest re-bookmarking the decision trees for each test: https://pingouin-stats.org/build/html/guidelines.html"
   ]
  },
  {
   "cell_type": "code",
   "execution_count": null,
   "id": "8eedc41b-6729-4d36-8510-947d32aee299",
   "metadata": {
    "tags": []
   },
   "outputs": [],
   "source": [
    "data = pd.DataFrame({'expression': rna_matrix.loc['KLF5', sample_sheet.index],\n",
    "                     'treatment': sample_sheet['treatment']})"
   ]
  },
  {
   "cell_type": "code",
   "execution_count": null,
   "id": "3aa5fecf-6ca7-4771-b8d2-335b3d01d67e",
   "metadata": {
    "tags": []
   },
   "outputs": [],
   "source": [
    "# Test for normality assumption\n",
    "pg.normality(data, dv = 'expression', group='treatment')"
   ]
  },
  {
   "cell_type": "code",
   "execution_count": null,
   "id": "33fd06e9-3ee8-46c6-ae40-fb532c0a975b",
   "metadata": {
    "tags": []
   },
   "outputs": [],
   "source": [
    "# ANOVA between treatments\n",
    "\n",
    "pg.anova(data, dv = 'expression' , between='treatment')"
   ]
  },
  {
   "cell_type": "code",
   "execution_count": null,
   "id": "5ca16975-5805-4ee4-a3c4-0f3352123e10",
   "metadata": {
    "tags": []
   },
   "outputs": [],
   "source": [
    "# Pairwise follow-up\n",
    "\n",
    "res = pg.pairwise_tukey(data, dv = 'expression', between='treatment')\n",
    "res[res['p-tukey']<0.05]"
   ]
  },
  {
   "cell_type": "markdown",
   "id": "0944d41c-fcea-4bc9-b6c8-5b2153578088",
   "metadata": {},
   "source": [
    "### Heatmaps"
   ]
  },
  {
   "cell_type": "code",
   "execution_count": 12,
   "id": "3c4ed372-7a9d-416c-a61c-fcb3f3d5f29c",
   "metadata": {
    "tags": []
   },
   "outputs": [
    {
     "data": {
      "text/plain": [
       "<AxesSubplot: xlabel='sample_id', ylabel='gene_name'>"
      ]
     },
     "execution_count": 12,
     "metadata": {},
     "output_type": "execute_result"
    },
    {
     "data": {
      "image/png": "[encoded data removed]",
      "text/plain": [
       "<Figure size 640x480 with 2 Axes>"
      ]
     },
     "metadata": {},
     "output_type": "display_data"
    }
   ],
   "source": [
    "sns.heatmap(rna_matrix.loc[['CHRM2', 'PCDHB3', 'KLF5', 'SEMA3D', 'SP7']])"
   ]
  },
  {
   "cell_type": "markdown",
   "id": "c0e52fea-552a-4db4-bcde-832087855e81",
   "metadata": {},
   "source": [
    "## Pairwise Comparisons"
   ]
  },
  {
   "cell_type": "markdown",
   "id": "b2a6ed1b-5e56-494f-9575-57c30e05c75f",
   "metadata": {},
   "source": [
    "Most pipelines, including [`nfcore`](https://nf-co.re/rnaseq/3.17.0/docs/output/#deseq2), will perform basic pairwise comparisons between test & control groups.\n",
    "This is usually done with DESeq2, an R package. Yuck.\n",
    "\n",
    "We can do a similar analysis ourselves."
   ]
  },
  {
   "cell_type": "code",
   "execution_count": null,
   "id": "55f15435-63e3-4db8-a6a0-6dcb978fdefa",
   "metadata": {
    "tags": []
   },
   "outputs": [],
   "source": [
    "sample_sheet.query('timepoint == \"4X\" &\tTat == \"No\"')"
   ]
  },
  {
   "cell_type": "code",
   "execution_count": null,
   "id": "fd6180c8-b1b4-44f2-8294-b18eb8a14eae",
   "metadata": {
    "tags": []
   },
   "outputs": [],
   "source": [
    "no_stim = ['d_4X_A_3','d_4X_A_5', 'f_4X_A_3']\n",
    "expressed_genes[no_stim].head()"
   ]
  },
  {
   "cell_type": "code",
   "execution_count": null,
   "id": "d5d2e106-3dfd-470c-adfe-0392bcd3f234",
   "metadata": {
    "tags": []
   },
   "outputs": [],
   "source": [
    "stimmed = ['d_4X_B_3','d_4X_B_6','f_4X_B_2']\n",
    "expressed_genes[stimmed].head()"
   ]
  },
  {
   "cell_type": "code",
   "execution_count": null,
   "id": "91fbb7ff-803d-4c2d-bb85-86aac26c16cf",
   "metadata": {
    "tags": []
   },
   "outputs": [],
   "source": [
    "# Calculate a log2 ratio of the difference in expression\n",
    "\n",
    "log2rc = np.log2(expressed_genes[no_stim].mean(axis=1)/expressed_genes[stimmed].mean(axis=1))"
   ]
  },
  {
   "cell_type": "code",
   "execution_count": null,
   "id": "133dd902-41c0-4e07-99a4-16f61f047052",
   "metadata": {
    "tags": []
   },
   "outputs": [],
   "source": [
    "# When doing matrix level t-tests, the scipy package is easier.\n",
    "from scipy.stats import ttest_ind"
   ]
  },
  {
   "cell_type": "code",
   "execution_count": null,
   "id": "edad13c6-ff29-4bac-a9ef-066932bafbf5",
   "metadata": {
    "tags": []
   },
   "outputs": [],
   "source": [
    "# Calculate a p-value for each gene\n",
    "_, pvals = ttest_ind(expressed_genes[no_stim], expressed_genes[stimmed], axis=1)\n",
    "pval_ser = pd.Series(pvals, index=expressed_genes.index)\n",
    "\n",
    "_, bh_pvals = pg.multicomp(pval_ser, alpha=0.05, method='fdr_bh')"
   ]
  },
  {
   "cell_type": "code",
   "execution_count": null,
   "id": "63407832-4501-4d68-a134-42605cdb7f84",
   "metadata": {
    "tags": []
   },
   "outputs": [],
   "source": [
    "stim_results = pd.DataFrame({'log2FC': log2rc,\n",
    "                            'pvals': pvals,\n",
    "                            'bh_pvals': bh_pvals,\n",
    "                            'mean_expression': expressed_genes[no_stim+stimmed].mean(axis=1)})\n",
    "stim_results.head()\n"
   ]
  },
  {
   "cell_type": "markdown",
   "id": "4f41cb44-8c68-4ac6-822c-c95eca4c6a2b",
   "metadata": {},
   "source": [
    "### Volcano plot"
   ]
  },
  {
   "cell_type": "code",
   "execution_count": null,
   "id": "78b855b0-f1a5-478f-861d-bda257ecdfbc",
   "metadata": {
    "tags": []
   },
   "outputs": [],
   "source": [
    "sns.scatterplot(data = stim_results,\n",
    "                x = 'log2FC',\n",
    "                y = -np.log10(stim_results['bh_pvals']),\n",
    "                alpha=0.5)"
   ]
  },
  {
   "cell_type": "code",
   "execution_count": null,
   "id": "7f91e418-d814-4467-aeaf-d6c2a91c44c3",
   "metadata": {},
   "outputs": [],
   "source": []
  },
  {
   "cell_type": "code",
   "execution_count": null,
   "id": "3640cb40-25f0-4b58-a78b-56dd60e4bf46",
   "metadata": {
    "tags": []
   },
   "outputs": [],
   "source": [
    "ax = sns.scatterplot(data = stim_results,\n",
    "                x = 'mean_expression',\n",
    "                y = 'log2FC',\n",
    "                alpha=0.1)\n",
    "sns.scatterplot(data = stim_results[stim_results['bh_pvals']<0.05],\n",
    "                x = 'mean_expression',\n",
    "                y = 'log2FC', alpha=0.9)\n",
    "ax.set_xscale('log')"
   ]
  },
  {
   "cell_type": "markdown",
   "id": "3e1b72b9-7405-44a4-a032-341f47a4086b",
   "metadata": {},
   "source": [
    "### Linear Models"
   ]
  },
  {
   "cell_type": "markdown",
   "id": "99c9229d-d08f-4a0c-87b3-6d20240206f3",
   "metadata": {},
   "source": [
    "Instead of a standard _differential expression_ analysis which performs a standard two-group analysis, this uses a linear regression model.\n",
    "In these types of analyses the each independent variable can interpreted together.\n",
    "It also allows us to represent a more complex relationship between the different factors of the experimental design.\n",
    "\n",
    "This idea was originally introduced in the R package `limma`.\n",
    "I've re-implemented it over the years, here's an application to this project."
   ]
  },
  {
   "cell_type": "code",
   "execution_count": null,
   "id": "80013b68-e38a-4330-88d1-ba77d9794cdb",
   "metadata": {
    "jupyter": {
     "source_hidden": true
    },
    "tags": []
   },
   "outputs": [],
   "source": [
    "from patsy import dmatrices\n",
    "import statsmodels.api as smf\n",
    "from statsmodels.stats.multitest import multipletests\n",
    "from tqdm import tqdm\n",
    "\n",
    "\n",
    "def apply_formula(expression_matrix, sample_sheet, formula, min_frac_expressed = 0.5, fdr_alpha=0.1):\n",
    "    \"Apply a regression formula across each gene in the expression matrix. Applies FDR correction across p-values.\"\n",
    "    \n",
    "    info = sample_sheet.copy()\n",
    "    info['expression'] = 0\n",
    "    \n",
    "    # The sample matrix will always be the same, so, precalc it\n",
    "    # ~10X time saver\n",
    "    _, X = dmatrices(formula, data=info, return_type='dataframe')\n",
    "    \n",
    "    \n",
    "    drop_cols = ['Stim[T.Yes]:Tat[T.Tat250]',\n",
    "                 'timepoint[T.6X]:Stim[T.Yes]:Tat[T.Tat250]',\n",
    "                 'timepoint[T.6X]:Stim[T.Yes]:Tat[T.Tat50]',\n",
    "                 'timepoint[T.6X]:Tat[T.Tat250]']\n",
    "\n",
    "    X.drop(drop_cols, axis=1, inplace=True)\n",
    "\n",
    "    results = []\n",
    "    df_model = 0\n",
    "    for key, row in tqdm(expression_matrix.iterrows(), total = len(expression_matrix.index)):\n",
    "        if (row.notnull().sum()>10) & ((row>0).mean()>min_frac_expressed):\n",
    "            \n",
    "            zscaled = (row.values-row.mean())/row.std()\n",
    "            \n",
    "            full_model = smf.OLS(zscaled, X).fit()\n",
    "            df_model = max(df_model, full_model.df_model)\n",
    "            results.append(extract_effects_pvals(full_model))\n",
    "        else:\n",
    "            results.append(pd.Series({}))\n",
    "            \n",
    "            \n",
    "    res_df = pd.DataFrame(results, index=expression_matrix.index)\n",
    "    \n",
    "    cols = [col for col in res_df.columns if col.endswith('pvalue')]\n",
    "\n",
    "    pvals = res_df[cols]\n",
    "    print(f'Applying p-value correction to {pvals.notnull().sum().sum()} tests')\n",
    "    _, corrected, _, _ = multipletests(pvals.fillna(1).values.flatten(), method = 'fdr_bh', alpha=fdr_alpha)\n",
    "\n",
    "    cor_df = pd.DataFrame(corrected.reshape(len(pvals.index), len(cols)), \n",
    "                          index=pvals.index,\n",
    "                          columns = [col+'_cor' for col in cols])\n",
    "    \n",
    "    \n",
    "    return pd.concat([res_df, cor_df], axis=1), df_model\n",
    "\n",
    "\n",
    "\n",
    "def extract_effects_pvals(result):\n",
    "    \"Extract the p-values and effect sizes from a statsmodels result object\"\n",
    "    \n",
    "    effects = result.params\n",
    "    effects.index = [col + '_effect' for col in effects.index]\n",
    "    \n",
    "    pvals = result.pvalues\n",
    "    pvals.index = [col + '_pvalue' for col in pvals.index]\n",
    "    \n",
    "    return pd.concat([effects, pvals])\n",
    "\n",
    "def get_effect_names(columns):\n",
    "    return sorted(set(col.split('_')[0] for col in columns))\n",
    "\n",
    "\n",
    "def stripbarplot(alpha=0.5, **kwargs):\n",
    "    \"Make a plot of both dots and bars\"\n",
    "    \n",
    "    sns.barplot(alpha=alpha, **kwargs)\n",
    "    sns.stripplot(dodge=True, **kwargs)\n",
    "\n",
    "    \n",
    "def make_expression_figure(expression_matrix, sample_sheet, x='media', hue = 'treatment', figsize=(15, 25)):\n",
    "    \n",
    "    fig, axs = plt.subplots(3,3, figsize=figsize)\n",
    "\n",
    "    info = sample_sheet.copy()\n",
    "    for row, (ax, gene) in enumerate(zip(axs.flatten(), expression_matrix.index)):\n",
    "\n",
    "        info['expression'] = expression_matrix.loc[gene].values\n",
    "\n",
    "        stripbarplot(data = info,\n",
    "                     y = 'expression',\n",
    "                     x = x,\n",
    "                     hue = hue,\n",
    "                     ax=ax)\n",
    "\n",
    "        sns.despine(ax=ax)\n",
    "        if row != 0:\n",
    "            if hue is not None:\n",
    "                ax.legend().remove()\n",
    "\n",
    "        ax.set_ylabel(gene)\n",
    "        \n",
    "    fig.tight_layout()\n",
    "    return fig    \n",
    "\n",
    "\n",
    "def volcano_plot(results_matrix, field, ax=None, **kwargs):\n",
    "    \n",
    "    if ax is None:\n",
    "        _, ax = plt.subplots(1,1)\n",
    "        \n",
    "    return sns.scatterplot(x = results_matrix[field + '_effect'],\n",
    "                           y = -np.log10(analysis_df[field + '_pvalue_cor']),\n",
    "                           ax=ax,\n",
    "                           **kwargs)"
   ]
  },
  {
   "cell_type": "code",
   "execution_count": null,
   "id": "4fa9bba0-bfc9-44f9-97c9-817e5b29165a",
   "metadata": {
    "tags": []
   },
   "outputs": [],
   "source": [
    "formula = 'expression ~ timepoint*Stim*Tat'"
   ]
  },
  {
   "cell_type": "code",
   "execution_count": null,
   "id": "9506ffc8-9088-4366-a125-74694b38f9d5",
   "metadata": {
    "tags": []
   },
   "outputs": [],
   "source": [
    "analysis_df, dof = apply_formula(expressed_genes, sample_sheet, formula)"
   ]
  },
  {
   "cell_type": "code",
   "execution_count": null,
   "id": "d30f767a-4e10-412e-82f5-5113a490d436",
   "metadata": {
    "tags": []
   },
   "outputs": [],
   "source": [
    "EFFECT_NAMES = get_effect_names(analysis_df.columns)\n",
    "\n",
    "print(f'The regression had {int(dof)} degrees of freedom and there were {len(sample_sheet.index)} samples.')\n",
    "print('These effects were determined.')\n",
    "print(f'{\"Name\":50}Significant Genes')\n",
    "for effect in EFFECT_NAMES:\n",
    "    if not ((effect == 'Intercept') | effect.startswith('donor')):\n",
    "        mask = analysis_df[effect + '_pvalue_cor'] < 0.01\n",
    "        print(f'{effect:50}{mask.sum()}')"
   ]
  },
  {
   "cell_type": "code",
   "execution_count": 13,
   "id": "86736351-c5af-4b4a-bb3d-6d55f039e7eb",
   "metadata": {
    "tags": []
   },
   "outputs": [
    {
     "ename": "NameError",
     "evalue": "name 'EFFECT_NAMES' is not defined",
     "output_type": "error",
     "traceback": [
      "\u001b[0;31m---------------------------------------------------------------------------\u001b[0m",
      "\u001b[0;31mNameError\u001b[0m                                 Traceback (most recent call last)",
      "Cell \u001b[0;32mIn[13], line 3\u001b[0m\n\u001b[1;32m      1\u001b[0m fig, axs \u001b[38;5;241m=\u001b[39m plt\u001b[38;5;241m.\u001b[39msubplots(\u001b[38;5;241m3\u001b[39m,\u001b[38;5;241m3\u001b[39m, sharey\u001b[38;5;241m=\u001b[39m\u001b[38;5;28;01mTrue\u001b[39;00m, figsize\u001b[38;5;241m=\u001b[39m(\u001b[38;5;241m15\u001b[39m,\u001b[38;5;241m15\u001b[39m))\n\u001b[0;32m----> 3\u001b[0m experimental_effects \u001b[38;5;241m=\u001b[39m [ef \u001b[38;5;28;01mfor\u001b[39;00m ef \u001b[38;5;129;01min\u001b[39;00m \u001b[43mEFFECT_NAMES\u001b[49m \u001b[38;5;28;01mif\u001b[39;00m (\u001b[38;5;129;01mnot\u001b[39;00m ef\u001b[38;5;241m.\u001b[39mstartswith(\u001b[38;5;124m'\u001b[39m\u001b[38;5;124mdonor\u001b[39m\u001b[38;5;124m'\u001b[39m)) \u001b[38;5;241m&\u001b[39m (ef \u001b[38;5;241m!=\u001b[39m \u001b[38;5;124m'\u001b[39m\u001b[38;5;124mIntercept\u001b[39m\u001b[38;5;124m'\u001b[39m)]\n\u001b[1;32m      5\u001b[0m \u001b[38;5;28;01mfor\u001b[39;00m effect, ax \u001b[38;5;129;01min\u001b[39;00m \u001b[38;5;28mzip\u001b[39m(experimental_effects, axs\u001b[38;5;241m.\u001b[39mflatten()):\n\u001b[1;32m      6\u001b[0m     volcano_plot(analysis_df, effect, ax\u001b[38;5;241m=\u001b[39max)\n",
      "\u001b[0;31mNameError\u001b[0m: name 'EFFECT_NAMES' is not defined"
     ]
    },
    {
     "data": {
      "image/png": "[encoded data removed]",
      "text/plain": [
       "<Figure size 1500x1500 with 9 Axes>"
      ]
     },
     "metadata": {},
     "output_type": "display_data"
    }
   ],
   "source": [
    "fig, axs = plt.subplots(3,3, sharey=True, figsize=(15,15))\n",
    "\n",
    "experimental_effects = [ef for ef in EFFECT_NAMES if (not ef.startswith('donor')) & (ef != 'Intercept')]\n",
    "\n",
    "for effect, ax in zip(experimental_effects, axs.flatten()):\n",
    "    volcano_plot(analysis_df, effect, ax=ax)\n",
    "    \n",
    "    subplotspec = ax.get_subplotspec()\n",
    "    if subplotspec.colspan.start == 0:\n",
    "        ax.set_ylabel('-log10(BH-FDR)')\n",
    "    \n",
    "    ax.set_title(effect.replace(':', '\\n'))\n",
    "    ax.set_xlabel('effect (z-scale)')\n",
    "    sns.despine(ax=ax, left = subplotspec.colspan.start != 0)\n",
    "    ax.set_xlim(-5, 5)\n",
    "    ax.axhline([2], linestyle = '--', color = 'k')\n",
    "    ax.axvline([-0.5], linestyle = '--', color = 'k')\n",
    "    ax.axvline([+0.5], linestyle = '--', color = 'k')\n",
    "    \n",
    "fig.tight_layout()\n",
    "#fig.savefig('figures/volcano_plot_high.png', dpi=600)"
   ]
  },
  {
   "cell_type": "code",
   "execution_count": 1,
   "id": "d99a9777-73f7-4096-9cef-4ffd5daabe6f",
   "metadata": {
    "tags": []
   },
   "outputs": [
    {
     "ename": "NameError",
     "evalue": "name 'experimental_effects' is not defined",
     "output_type": "error",
     "traceback": [
      "\u001b[0;31m---------------------------------------------------------------------------\u001b[0m",
      "\u001b[0;31mNameError\u001b[0m                                 Traceback (most recent call last)",
      "Cell \u001b[0;32mIn[1], line 1\u001b[0m\n\u001b[0;32m----> 1\u001b[0m \u001b[38;5;28;01mfor\u001b[39;00m effect \u001b[38;5;129;01min\u001b[39;00m \u001b[43mexperimental_effects\u001b[49m:\n\u001b[1;32m      2\u001b[0m     mask \u001b[38;5;241m=\u001b[39m analysis_df[effect \u001b[38;5;241m+\u001b[39m \u001b[38;5;124m'\u001b[39m\u001b[38;5;124m_pvalue_cor\u001b[39m\u001b[38;5;124m'\u001b[39m] \u001b[38;5;241m<\u001b[39m \u001b[38;5;241m0.01\u001b[39m\n\u001b[1;32m      3\u001b[0m     \u001b[38;5;28;01mif\u001b[39;00m mask\u001b[38;5;241m.\u001b[39many():\n",
      "\u001b[0;31mNameError\u001b[0m: name 'experimental_effects' is not defined"
     ]
    }
   ],
   "source": [
    "for effect in experimental_effects:\n",
    "    mask = analysis_df[effect + '_pvalue_cor'] < 0.01\n",
    "    if mask.any():\n",
    "        sig_gene_effects = analysis_df.loc[mask, effect + '_effect'].sort_values(ascending=False)\n",
    "        \n",
    "        fig = make_expression_figure(rna_matrix.loc[sig_gene_effects.index].sample(min(9, mask.sum())), sample_sheet,\n",
    "                                     x='timepoint', hue = 'treatment',\n",
    "                                     \n",
    "                                     \n",
    "                                     figsize=(10, 10))\n",
    "        fig.suptitle(effect)\n",
    "        fig.tight_layout()\n",
    "        #fig.savefig(f'figures/{effect}-genes_sample.png', dpi=300)\n"
   ]
  },
  {
   "cell_type": "code",
   "execution_count": null,
   "id": "0a4bc427-3429-4281-8cb7-592018488b6f",
   "metadata": {},
   "outputs": [],
   "source": []
  }
 ],
 "metadata": {
  "kernelspec": {
   "display_name": "Python 3 (ipykernel)",
   "language": "python",
   "name": "python3"
  },
  "language_info": {
   "codemirror_mode": {
    "name": "ipython",
    "version": 3
   },
   "file_extension": ".py",
   "mimetype": "text/x-python",
   "name": "python",
   "nbconvert_exporter": "python",
   "pygments_lexer": "ipython3",
   "version": "3.9.9"
  }
 },
 "nbformat": 4,
 "nbformat_minor": 5
}
